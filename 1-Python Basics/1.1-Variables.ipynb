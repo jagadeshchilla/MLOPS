{
 "cells": [
  {
   "cell_type": "markdown",
   "metadata": {},
   "source": [
    "### Variables\n",
    "Variables are fundamental elements in programming used to store data that can be referenced and manipulated in a program. In Python, variables are created when you assign a value to them, and they do not need explicit declaration to reserve memory space. The declaration happens automatically when you assign a value to a variable.\n",
    "\n",
    "Video Outline:\n",
    "- Introduction to Variables\n",
    "- Declaring and Assigning Variables\n",
    "- Naming Conventions\n",
    "- Understanding Variable Types\n",
    "- Type Checking and Conversion\n",
    "- Dynamic Typing\n",
    "- Practical Examples and Common Errors"
   ]
  },
  {
   "cell_type": "markdown",
   "metadata": {},
   "source": [
    "### Simple Variable Assignment\n",
    "\n",
    "The most basic way to create a variable in Python:\n",
    "- `a=100` creates a variable named `a` and assigns the integer value 100 to it\n",
    "- No need to declare the variable type - Python automatically determines it's an integer\n",
    "- The variable is now stored in memory and can be used throughout the program\n"
   ]
  },
  {
   "cell_type": "code",
   "execution_count": 20,
   "metadata": {},
   "outputs": [],
   "source": [
    "a=100"
   ]
  },
  {
   "cell_type": "markdown",
   "metadata": {},
   "source": [
    "### Multiple Variable Declarations and Data Types\n",
    "\n",
    "This example demonstrates creating variables of different data types:\n",
    "\n",
    "**Variable Assignments:**\n",
    "- `age=32` - Integer variable storing a whole number\n",
    "- `height=6.1` - Float variable storing a decimal number  \n",
    "- `name=\"Jagadesh\"` - String variable storing text (enclosed in quotes)\n",
    "- `is_student=True` - Boolean variable storing True/False value\n",
    "\n",
    "**Print Statements:**\n",
    "- `print(\"age :\",age)` - Displays the label and value\n",
    "- Notice how Python automatically handles different data types in print statements\n",
    "- No need for explicit type conversion when printing\n"
   ]
  },
  {
   "cell_type": "code",
   "execution_count": 21,
   "metadata": {},
   "outputs": [
    {
     "name": "stdout",
     "output_type": "stream",
     "text": [
      "age : 32\n",
      "Height: 6.1\n",
      "Name: Jagadesh\n"
     ]
    }
   ],
   "source": [
    "## Declaring And Assigning Variables\n",
    "\n",
    "age=32\n",
    "height=6.1\n",
    "name=\"Jagadesh\"\n",
    "is_student=True\n",
    "\n",
    "## printing the variables\n",
    "\n",
    "print(\"age :\",age)\n",
    "print(\"Height:\",height)\n",
    "print(\"Name:\",name)"
   ]
  },
  {
   "cell_type": "markdown",
   "metadata": {},
   "source": [
    "### Variable Naming Conventions\n",
    "\n",
    "**Important Rules for Variable Names:**\n",
    "\n",
    "1. **Must start with:** a letter (a-z, A-Z) or underscore (_)\n",
    "2. **Can contain:** letters, numbers, and underscores\n",
    "3. **Cannot start with:** numbers\n",
    "4. **Case sensitive:** `name` and `Name` are different variables\n",
    "5. **Cannot use:** Python keywords (like `if`, `for`, `while`, etc.)\n",
    "\n",
    "**Good Examples:**\n",
    "- `first_name` - Uses underscore to separate words (snake_case)\n",
    "- `last_name` - Descriptive and follows naming conventions\n",
    "- `age`, `height`, `is_student` - Clear and meaningful names\n",
    "\n",
    "**Best Practices:**\n",
    "- Use descriptive names that explain what the variable stores\n",
    "- Use snake_case for multi-word variables\n",
    "- Avoid single letters except for counters (i, j, k)\n"
   ]
  },
  {
   "cell_type": "code",
   "execution_count": 22,
   "metadata": {},
   "outputs": [],
   "source": [
    "## Naming Conventions\n",
    "## Variable names should be descriptive\n",
    "## They must start with a letter or an '_' and contains letter,numbers and underscores\n",
    "## variables names case sensitive\n",
    "\n",
    "#valid variable names\n",
    "\n",
    "first_name=\"Jagadesh\"\n",
    "last_name=\"Chilla\""
   ]
  },
  {
   "cell_type": "markdown",
   "metadata": {},
   "source": [
    "### Case Sensitivity Demonstration\n",
    "\n",
    "This example proves that Python is **case-sensitive**:\n",
    "- `name=\"Jagadesh\"` - Variable with lowercase 'n'\n",
    "- `Name=\"Chilla\"` - Different variable with uppercase 'N'\n",
    "\n",
    "These are treated as **completely separate variables** that can store different values simultaneously. This is important to remember when:\n",
    "- Accessing variables\n",
    "- Defining functions\n",
    "- Working with class names\n",
    "- Using any identifiers in Python\n"
   ]
  },
  {
   "cell_type": "code",
   "execution_count": 23,
   "metadata": {},
   "outputs": [],
   "source": [
    "## case sensitivity\n",
    "name=\"Jagadesh\"\n",
    "Name=\"Chilla\"\n",
    "\n"
   ]
  },
  {
   "cell_type": "markdown",
   "metadata": {},
   "source": [
    "### Understanding Python's Built-in Data Types\n",
    "\n",
    "Python has several built-in data types that are automatically determined:\n",
    "\n",
    "**Four Main Data Types Shown:**\n",
    "1. **Integer (`int`)** - `age=25` - Whole numbers\n",
    "2. **Float (`float`)** - `height=6.1` - Decimal numbers  \n",
    "3. **String (`str`)** - `name=\"Krish\"` - Text data (in quotes)\n",
    "4. **Boolean (`bool`)** - `is_student=True` - True/False values\n",
    "\n",
    "**Dynamic Typing:**\n",
    "- Python determines the type automatically at runtime\n",
    "- No need to explicitly declare types like in other languages (C++, Java)\n",
    "- `type()` function reveals the data type of any variable\n"
   ]
  },
  {
   "cell_type": "code",
   "execution_count": 24,
   "metadata": {},
   "outputs": [
    {
     "name": "stdout",
     "output_type": "stream",
     "text": [
      "<class 'str'>\n"
     ]
    }
   ],
   "source": [
    "## Understnading Variable types\n",
    "## Python is dynamically typed,type of a variable is determined at runtime\n",
    "age=25 #int\n",
    "height=6.1 #float\n",
    "name=\"Krish\" #str\n",
    "is_student=True #bool\n",
    "\n",
    "print(type(name))"
   ]
  },
  {
   "cell_type": "markdown",
   "metadata": {},
   "source": [
    "### Type Checking with type() Function\n",
    "\n",
    "The `type()` function is essential for debugging and understanding your data:\n",
    "- `type(height)` returns `<class 'float'>`\n",
    "- This tells us that `height` is a floating-point number\n",
    "- Useful for:\n",
    "  - Debugging code\n",
    "  - Validating input data\n",
    "  - Understanding variable behavior\n",
    "  - Conditional logic based on data types\n"
   ]
  },
  {
   "cell_type": "code",
   "execution_count": 25,
   "metadata": {},
   "outputs": [
    {
     "data": {
      "text/plain": [
       "float"
      ]
     },
     "execution_count": 25,
     "metadata": {},
     "output_type": "execute_result"
    }
   ],
   "source": [
    "## Type Checking and Conversion\n",
    "\n",
    "type(height)"
   ]
  },
  {
   "cell_type": "markdown",
   "metadata": {},
   "source": [
    "### Type Conversion (Type Casting)\n",
    "\n",
    "Converting between different data types:\n",
    "\n",
    "**Step-by-step breakdown:**\n",
    "1. `age=25` - Create integer variable\n",
    "2. `print(type(age))` - Shows `<class 'int'>`\n",
    "3. `age_str=str(age)` - Convert integer to string\n",
    "4. `print(age_str)` - Displays \"25\" (now as text)\n",
    "5. `print(type(age_str))` - Shows `<class 'str'>`\n",
    "\n",
    "**Common Type Conversions:**\n",
    "- `str()` - Convert to string\n",
    "- `int()` - Convert to integer  \n",
    "- `float()` - Convert to float\n",
    "- `bool()` - Convert to boolean\n"
   ]
  },
  {
   "cell_type": "code",
   "execution_count": 26,
   "metadata": {},
   "outputs": [
    {
     "name": "stdout",
     "output_type": "stream",
     "text": [
      "<class 'int'>\n",
      "25\n",
      "<class 'str'>\n"
     ]
    }
   ],
   "source": [
    "age=25\n",
    "print(type(age))\n",
    "\n",
    "# Type conversion\n",
    "age_str=str(age)\n",
    "print(age_str)\n",
    "print(type(age_str))"
   ]
  },
  {
   "cell_type": "markdown",
   "metadata": {},
   "source": [
    "### String to Integer Conversion\n",
    "\n",
    "Converting string numbers to integers:\n",
    "- `age='25'` - String containing numeric characters\n",
    "- `int(age)` - Converts string \"25\" to integer 25\n",
    "- `type(int(age))` - Confirms the result is `<class 'int'>`\n",
    "\n",
    "**Important Note:** This only works when the string contains valid numeric characters. Non-numeric strings will cause a ValueError.\n"
   ]
  },
  {
   "cell_type": "code",
   "execution_count": 27,
   "metadata": {},
   "outputs": [
    {
     "name": "stdout",
     "output_type": "stream",
     "text": [
      "<class 'int'>\n"
     ]
    }
   ],
   "source": [
    "age='25'\n",
    "print(type(int(age)))"
   ]
  },
  {
   "cell_type": "code",
   "execution_count": 28,
   "metadata": {},
   "outputs": [
    {
     "ename": "ValueError",
     "evalue": "invalid literal for int() with base 10: 'jagadesh'",
     "output_type": "error",
     "traceback": [
      "\u001b[31m---------------------------------------------------------------------------\u001b[39m",
      "\u001b[31mValueError\u001b[39m                                Traceback (most recent call last)",
      "\u001b[36mCell\u001b[39m\u001b[36m \u001b[39m\u001b[32mIn[28]\u001b[39m\u001b[32m, line 2\u001b[39m\n\u001b[32m      1\u001b[39m name=\u001b[33m\"\u001b[39m\u001b[33mjagadesh\u001b[39m\u001b[33m\"\u001b[39m\n\u001b[32m----> \u001b[39m\u001b[32m2\u001b[39m \u001b[38;5;28;43mint\u001b[39;49m\u001b[43m(\u001b[49m\u001b[43mname\u001b[49m\u001b[43m)\u001b[49m\n",
      "\u001b[31mValueError\u001b[39m: invalid literal for int() with base 10: 'jagadesh'"
     ]
    }
   ],
   "source": [
    "name=\"jagadesh\"\n",
    "int(name)"
   ]
  },
  {
   "cell_type": "markdown",
   "metadata": {},
   "source": [
    "### ValueError: Invalid Type Conversion\n",
    "\n",
    "This demonstrates a common error when converting types:\n",
    "\n",
    "**What happens:**\n",
    "- `name=\"jagadesh\"` - String containing text (not numbers)\n",
    "- `int(name)` - Attempts to convert text to integer\n",
    "- **Result:** `ValueError: invalid literal for int() with base 10: 'jagadesh'`\n",
    "\n",
    "**Why it fails:**\n",
    "- The string \"jagadesh\" contains letters, not numeric digits\n",
    "- Python cannot convert non-numeric text to integers\n",
    "- This is a runtime error that stops program execution\n",
    "\n",
    "**Lesson:** Always ensure data is in the correct format before type conversion!\n"
   ]
  },
  {
   "cell_type": "markdown",
   "metadata": {},
   "source": [
    "### Float Variable Example\n",
    "\n",
    "Simple demonstration of float data type:\n",
    "- `height=5.11` - Creates a float variable with decimal value\n",
    "- `type(height)` - Returns `<class 'float'>`\n",
    "- Floats are used for decimal numbers and precise calculations\n"
   ]
  },
  {
   "cell_type": "code",
   "execution_count": 19,
   "metadata": {},
   "outputs": [
    {
     "data": {
      "text/plain": [
       "float"
      ]
     },
     "execution_count": 19,
     "metadata": {},
     "output_type": "execute_result"
    }
   ],
   "source": [
    "height=5.11\n",
    "type(height)"
   ]
  },
  {
   "cell_type": "markdown",
   "metadata": {},
   "source": [
    "### Chained Type Conversion\n",
    "\n",
    "This shows multiple type conversions in one expression:\n",
    "- `height` is originally `5.11` (float)\n",
    "- `int(height)` converts to integer `5` (truncates decimal part)\n",
    "- `float(int(height))` converts back to float `5.0`\n",
    "\n",
    "**Important Notes:**\n",
    "- Converting float to int **truncates** (cuts off) the decimal part\n",
    "- Converting int back to float adds `.0` but doesn't restore original precision\n",
    "- Original value `5.11` becomes `5.0` - data is lost!\n"
   ]
  },
  {
   "cell_type": "code",
   "execution_count": 19,
   "metadata": {},
   "outputs": [
    {
     "data": {
      "text/plain": [
       "5.0"
      ]
     },
     "execution_count": 19,
     "metadata": {},
     "output_type": "execute_result"
    }
   ],
   "source": [
    "float(int(height))"
   ]
  },
  {
   "cell_type": "markdown",
   "metadata": {},
   "source": [
    "### Dynamic Typing in Action\n",
    "\n",
    "This is a powerful demonstration of Python's **dynamic typing**:\n",
    "\n",
    "**Step-by-step execution:**\n",
    "1. `var=10` - Variable starts as integer, prints: `10 <class 'int'>`\n",
    "2. `var=\"Hello\"` - Same variable now holds a string, prints: `Hello <class 'str'>`  \n",
    "3. `var=3.14` - Same variable now holds a float, prints: `3.14 <class 'float'>`\n",
    "\n",
    "**Key Concepts:**\n",
    "- **One variable, multiple types:** The same variable can hold different data types\n",
    "- **Runtime type determination:** Type is determined when the value is assigned\n",
    "- **No type declaration needed:** Unlike languages like C++ or Java\n",
    "- **Memory management:** Python automatically handles memory allocation/deallocation\n",
    "\n",
    "**Advantages:**\n",
    "- Flexible and easy to use\n",
    "- Less verbose code\n",
    "- Rapid prototyping\n",
    "\n",
    "**Considerations:**\n",
    "- Can lead to unexpected behavior if not careful\n",
    "- May impact performance in some cases\n"
   ]
  },
  {
   "cell_type": "code",
   "execution_count": 20,
   "metadata": {},
   "outputs": [
    {
     "name": "stdout",
     "output_type": "stream",
     "text": [
      "10 <class 'int'>\n",
      "Hello <class 'str'>\n",
      "3.14 <class 'float'>\n"
     ]
    }
   ],
   "source": [
    "## Dynamic Typing\n",
    "## Python allows the type of a vraible to change as the program executes\n",
    "var=10 #int\n",
    "print(var,type(var))\n",
    "\n",
    "var=\"Hello\"\n",
    "print(var,type(var))\n",
    "\n",
    "var=3.14\n",
    "print(var,type(var))\n",
    "\n"
   ]
  },
  {
   "cell_type": "code",
   "execution_count": 26,
   "metadata": {},
   "outputs": [
    {
     "name": "stdout",
     "output_type": "stream",
     "text": [
      "23 <class 'int'>\n"
     ]
    }
   ],
   "source": [
    "## input\n",
    "\n",
    "age=int(input(\"What is the age\"))\n",
    "print(age,type(age))"
   ]
  },
  {
   "cell_type": "code",
   "execution_count": 27,
   "metadata": {},
   "outputs": [
    {
     "name": "stdout",
     "output_type": "stream",
     "text": [
      "Sum: 66.0\n",
      "Difference: 46.0\n",
      "Product: 560.0\n",
      "Quotient: 5.6\n"
     ]
    }
   ],
   "source": [
    "### Simple calculator\n",
    "num1 = float(input(\"Enter first number: \"))\n",
    "num2 = float(input(\"Enter second number: \"))\n",
    "\n",
    "sum = num1 + num2\n",
    "difference = num1 - num2\n",
    "product = num1 * num2\n",
    "quotient = num1 / num2\n",
    "\n",
    "print(\"Sum:\", sum)\n",
    "print(\"Difference:\", difference)\n",
    "print(\"Product:\", product)\n",
    "print(\"Quotient:\", quotient)\n"
   ]
  },
  {
   "cell_type": "markdown",
   "metadata": {},
   "source": [
    "### Summary: Variables in Python\n",
    "\n",
    "This notebook covered the essential concepts of variables in Python:\n",
    "\n",
    "#### **Key Concepts Learned:**\n",
    "\n",
    "1. **Variable Creation**\n",
    "   - Simple assignment with `=` operator\n",
    "   - No need for explicit type declaration\n",
    "   - Automatic memory management\n",
    "\n",
    "2. **Data Types**\n",
    "   - **Integer (`int`)** - Whole numbers\n",
    "   - **Float (`float`)** - Decimal numbers\n",
    "   - **String (`str`)** - Text data\n",
    "   - **Boolean (`bool`)** - True/False values\n",
    "\n",
    "3. **Naming Conventions**\n",
    "   - Must start with letter or underscore\n",
    "   - Can contain letters, numbers, underscores\n",
    "   - Case-sensitive\n",
    "   - Use descriptive names\n",
    "\n",
    "4. **Type Operations**\n",
    "   - `type()` function for checking data types\n",
    "   - Type conversion: `int()`, `float()`, `str()`, `bool()`\n",
    "   - Error handling for invalid conversions\n",
    "\n",
    "5. **Dynamic Typing**\n",
    "   - Variables can change types during execution\n",
    "   - Type determined at runtime\n",
    "   - Flexible but requires careful programming\n",
    "\n",
    "6. **User Input**\n",
    "   - `input()` always returns strings\n",
    "   - Type conversion needed for numeric operations\n",
    "   - Essential for interactive programs\n",
    "\n",
    "\n",
    "#### **Common Pitfalls to Avoid:**\n",
    "- Forgetting that `input()` returns strings\n",
    "- Attempting invalid type conversions\n",
    "- Case sensitivity issues with variable names\n",
    "- Using reserved keywords as variable names\n",
    "\n",
    "Understanding variables is fundamental to Python programming - they are the building blocks for storing and manipulating data in your programs!\n"
   ]
  },
  {
   "cell_type": "markdown",
   "metadata": {},
   "source": []
  }
 ],
 "metadata": {
  "kernelspec": {
   "display_name": "Python 3",
   "language": "python",
   "name": "python3"
  },
  "language_info": {
   "codemirror_mode": {
    "name": "ipython",
    "version": 3
   },
   "file_extension": ".py",
   "mimetype": "text/x-python",
   "name": "python",
   "nbconvert_exporter": "python",
   "pygments_lexer": "ipython3",
   "version": "3.13.3"
  }
 },
 "nbformat": 4,
 "nbformat_minor": 2
}
