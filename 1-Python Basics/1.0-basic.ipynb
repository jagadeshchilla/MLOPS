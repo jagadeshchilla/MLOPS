{
 "cells": [
  {
   "cell_type": "markdown",
   "metadata": {},
   "source": [
    "### Syntax and Semantics in Python\n",
    "Outline:\n",
    "- Single line Comments and multiline comments \n",
    "- Definition of Syntax and Semantics\n",
    "- Basic Syntax Rules in Python\n",
    "- Understanding Semantics in Python\n",
    "- Common Syntax Errors and How to Avoid Them\n",
    "- Practical Code Examples"
   ]
  },
  {
   "cell_type": "markdown",
   "metadata": {},
   "source": [
    "Syntax refers to the set of rules that defines the combinations of symbols that are considered to be correctly structured programs in a language. In simpler terms, syntax is about the correct arrangement of words and symbols in a code.\n",
    "\n",
    "Semantics refers to the meaning or the interpretation of the symbols, characters, and commands in a language. It is about what the code is supposed to do when it runs."
   ]
  },
  {
   "cell_type": "code",
   "execution_count": 8,
   "metadata": {},
   "outputs": [
    {
     "name": "stdout",
     "output_type": "stream",
     "text": [
      "Jagadesh\n",
      "Chilla\n"
     ]
    }
   ],
   "source": [
    "## Basic Syntax Rules In Python\n",
    "## Case sensitivity- Python is case sensitive\n",
    "\n",
    "name=\"Jagadesh\"\n",
    "Name=\"Chilla\"\n",
    "\n",
    "print(name)\n",
    "print(Name)\n"
   ]
  },
  {
   "cell_type": "markdown",
   "metadata": {},
   "source": [
    "### Case Sensitivity in Python\n",
    "\n",
    "Python is **case-sensitive**, which means it treats uppercase and lowercase letters as different characters. This is an important concept to understand as it affects:\n",
    "\n",
    "- Variable names\n",
    "- Function names  \n",
    "- Keywords\n",
    "- Class names\n",
    "\n",
    "In the example above:\n",
    "- `name` and `Name` are treated as two completely different variables\n",
    "- Each can store different values independently\n",
    "- This demonstrates that Python distinguishes between cases in identifiers\n"
   ]
  },
  {
   "cell_type": "markdown",
   "metadata": {},
   "source": [
    "### Indentation\n",
    "Indentation in Python is used to define the structure and hierarchy of the code. Unlike many other programming languages that use braces {} to delimit blocks of code, Python uses indentation to determine the grouping of statements. This means that all the statements within a block must be indented at the same level."
   ]
  },
  {
   "cell_type": "code",
   "execution_count": 9,
   "metadata": {},
   "outputs": [
    {
     "name": "stdout",
     "output_type": "stream",
     "text": [
      "32\n",
      "32\n"
     ]
    }
   ],
   "source": [
    "## Indentation\n",
    "## Python uses indentation to define blocks of code. Consistent use of spaces (commonly 4) or a tab is required.\n",
    "\n",
    "age=32\n",
    "if age>30:\n",
    "    \n",
    "    print(age)\n",
    "    \n",
    "print(age)\n"
   ]
  },
  {
   "cell_type": "markdown",
   "metadata": {},
   "source": [
    "### Understanding the Indentation Example\n",
    "\n",
    "In the code above:\n",
    "- We define a variable `age` with value 32\n",
    "- The `if` statement checks if age is greater than 30\n",
    "- Since the condition is `True`, the indented block executes\n",
    "- The indented `print(age)` statement runs and displays 32\n",
    "- The final `print(age)` is not indented, so it's outside the if block and always executes\n",
    "\n",
    "**Key Point**: The indented code block is executed only when the condition is true, while non-indented code at the same level always executes.\n"
   ]
  },
  {
   "cell_type": "code",
   "execution_count": 10,
   "metadata": {},
   "outputs": [
    {
     "name": "stdout",
     "output_type": "stream",
     "text": [
      "Hello World\n"
     ]
    }
   ],
   "source": [
    "## This is a single line comment\n",
    "print(\"Hello World\")"
   ]
  },
  {
   "cell_type": "markdown",
   "metadata": {},
   "source": [
    "### Single Line Comments\n",
    "\n",
    "Comments are essential for code documentation and readability:\n",
    "- Single line comments start with `#`\n",
    "- Everything after `#` on that line is ignored by Python\n",
    "- Comments help explain what the code does\n",
    "- They make code more maintainable and understandable\n"
   ]
  },
  {
   "cell_type": "code",
   "execution_count": 11,
   "metadata": {},
   "outputs": [
    {
     "name": "stdout",
     "output_type": "stream",
     "text": [
      "43\n"
     ]
    }
   ],
   "source": [
    "## Line Continuation\n",
    "##Use a backslash (\\) to continue a statement to the next line\n",
    "\n",
    "total=1+2+3+4+5+6+7+\\\n",
    "4+5+6\n",
    "\n",
    "print(total)\n"
   ]
  },
  {
   "cell_type": "markdown",
   "metadata": {},
   "source": [
    "### Line Continuation Explained\n",
    "\n",
    "The backslash (`\\`) allows you to split long statements across multiple lines:\n",
    "- Useful for improving code readability\n",
    "- Helps avoid horizontal scrolling\n",
    "- The expression continues on the next line\n",
    "- Python treats it as a single statement\n",
    "- In this example: `1+2+3+4+5+6+7+4+5+6 = 43`\n"
   ]
  },
  {
   "cell_type": "code",
   "execution_count": 12,
   "metadata": {},
   "outputs": [
    {
     "name": "stdout",
     "output_type": "stream",
     "text": [
      "15\n"
     ]
    }
   ],
   "source": [
    "## Multiple Statements on a single line\n",
    "x=5;y=10;z=x+y\n",
    "print(z)"
   ]
  },
  {
   "cell_type": "markdown",
   "metadata": {},
   "source": [
    "### Multiple Statements on One Line\n",
    "\n",
    "You can write multiple statements on a single line using semicolons (`;`):\n",
    "- Each statement is separated by a semicolon\n",
    "- `x=5` assigns 5 to variable x\n",
    "- `y=10` assigns 10 to variable y  \n",
    "- `z=x+y` calculates the sum (15) and assigns it to z\n",
    "- **Note**: While possible, it's generally better to write each statement on its own line for readability\n"
   ]
  },
  {
   "cell_type": "code",
   "execution_count": 13,
   "metadata": {},
   "outputs": [],
   "source": [
    "##Understand  Semnatics In Python\n",
    "# variable assignment\n",
    "age=32 ##age is an integer\n",
    "name=\"Krish\" ##name is a string"
   ]
  },
  {
   "cell_type": "markdown",
   "metadata": {},
   "source": [
    "### Variable Assignment and Data Types\n",
    "\n",
    "This demonstrates basic variable assignment in Python:\n",
    "- `age=32` creates an integer variable\n",
    "- `name=\"Krish\"` creates a string variable\n",
    "- Python automatically determines the data type (this is called **dynamic typing**)\n",
    "- No need to explicitly declare variable types like in other languages\n"
   ]
  },
  {
   "cell_type": "code",
   "execution_count": 14,
   "metadata": {},
   "outputs": [
    {
     "data": {
      "text/plain": [
       "int"
      ]
     },
     "execution_count": 14,
     "metadata": {},
     "output_type": "execute_result"
    }
   ],
   "source": [
    "\n",
    "\n",
    "type(age)"
   ]
  },
  {
   "cell_type": "markdown",
   "metadata": {},
   "source": [
    "### Checking Data Types with type()\n",
    "\n",
    "The `type()` function returns the data type of a variable:\n",
    "- `type(age)` returns `<class 'int'>` because age contains an integer\n",
    "- This is useful for debugging and understanding your data\n",
    "- Python's built-in function for type checking"
   ]
  },
  {
   "cell_type": "code",
   "execution_count": 15,
   "metadata": {},
   "outputs": [
    {
     "data": {
      "text/plain": [
       "str"
      ]
     },
     "execution_count": 15,
     "metadata": {},
     "output_type": "execute_result"
    }
   ],
   "source": [
    "type(name)"
   ]
  },
  {
   "cell_type": "markdown",
   "metadata": {},
   "source": [
    "### String Data Type\n",
    "\n",
    "Similarly, `type(name)` returns `<class 'str'>` because:\n",
    "- The variable `name` contains a string value \"Krish\"\n",
    "- Strings are sequences of characters enclosed in quotes\n",
    "- Python recognizes this as a string data type\n"
   ]
  },
  {
   "cell_type": "code",
   "execution_count": 16,
   "metadata": {},
   "outputs": [
    {
     "name": "stdout",
     "output_type": "stream",
     "text": [
      "<class 'int'>\n",
      "<class 'str'>\n"
     ]
    }
   ],
   "source": [
    "## Type Inference\n",
    "variable=10\n",
    "print(type(variable))\n",
    "variable=\"Krish\"\n",
    "print(type(variable))"
   ]
  },
  {
   "cell_type": "markdown",
   "metadata": {},
   "source": [
    "### Dynamic Typing and Type Inference\n",
    "\n",
    "This example demonstrates Python's **dynamic typing**:\n",
    "- `variable=10` - Python infers this is an integer\n",
    "- `variable=\"Krish\"` - The same variable now holds a string\n",
    "- The variable's type changes based on the assigned value\n",
    "- Python automatically determines the appropriate data type\n",
    "- This flexibility is a key feature of Python\n"
   ]
  },
  {
   "cell_type": "code",
   "execution_count": 17,
   "metadata": {},
   "outputs": [
    {
     "name": "stdout",
     "output_type": "stream",
     "text": [
      "32\n"
     ]
    }
   ],
   "source": [
    "age=32\n",
    "if age>30:\n",
    "    print(age)"
   ]
  },
  {
   "cell_type": "markdown",
   "metadata": {},
   "source": [
    "### Conditional Statement Example\n",
    "\n",
    "This shows a basic conditional statement:\n",
    "- `if age>30:` checks if the age variable is greater than 30\n",
    "- Since age is 32, the condition evaluates to `True`\n",
    "- The indented `print(age)` statement executes\n",
    "- This demonstrates both conditional logic and proper indentation\n"
   ]
  },
  {
   "cell_type": "code",
   "execution_count": 18,
   "metadata": {},
   "outputs": [
    {
     "ename": "NameError",
     "evalue": "name 'b' is not defined",
     "output_type": "error",
     "traceback": [
      "\u001b[31m---------------------------------------------------------------------------\u001b[39m",
      "\u001b[31mNameError\u001b[39m                                 Traceback (most recent call last)",
      "\u001b[36mCell\u001b[39m\u001b[36m \u001b[39m\u001b[32mIn[18]\u001b[39m\u001b[32m, line 2\u001b[39m\n\u001b[32m      1\u001b[39m \u001b[38;5;66;03m## Name Error\u001b[39;00m\n\u001b[32m----> \u001b[39m\u001b[32m2\u001b[39m a=\u001b[43mb\u001b[49m\n",
      "\u001b[31mNameError\u001b[39m: name 'b' is not defined"
     ]
    }
   ],
   "source": [
    "# ## Name Error\n",
    "# a=b"
   ]
  },
  {
   "cell_type": "markdown",
   "metadata": {},
   "source": [
    "### Common Error: NameError\n",
    "\n",
    "This code demonstrates a **NameError**:\n",
    "- We're trying to assign the value of variable `b` to variable `a`\n",
    "- However, variable `b` has never been defined\n",
    "- Python raises a `NameError` because it doesn't know what `b` refers to\n",
    "- **Lesson**: Always define variables before using them\n"
   ]
  },
  {
   "cell_type": "markdown",
   "metadata": {},
   "source": [
    "\n",
    "### Advanced Indentation Example\n",
    "\n",
    "This example shows **nested indentation**:\n",
    "- First `if True:` - This condition is always true, so the block executes\n",
    "  - `print(\"Correct Indentation\")` - Executes (indented once)\n",
    "  - Second `if False:` - This condition is false, so its block doesn't execute\n",
    "    - `print(\"This ont print\")` - Does NOT execute (indented twice)\n",
    "  - `print(\"This will print\")` - Executes (back to single indentation level)\n",
    "- `print(\"Outside the if block\")` - Always executes (no indentation)\n",
    "\n",
    "**Key Concepts**:\n",
    "- Nested conditions require additional indentation\n",
    "- Each level of nesting adds more indentation\n",
    "- Consistent indentation is crucial for proper code structure\n"
   ]
  },
  {
   "cell_type": "code",
   "execution_count": 17,
   "metadata": {},
   "outputs": [
    {
     "name": "stdout",
     "output_type": "stream",
     "text": [
      "Correct Indentation\n",
      "This will print\n",
      "Outside the if block\n"
     ]
    }
   ],
   "source": [
    "## Code exmaples of indentation\n",
    "if True:\n",
    "    print(\"Correct Indentation\")\n",
    "    if False:\n",
    "        print(\"This ont print\")\n",
    "    print(\"This will print\")\n",
    "print(\"Outside the if block\")"
   ]
  },
  {
   "cell_type": "markdown",
   "metadata": {},
   "source": [
    "### Summary\n",
    "\n",
    "This notebook covered the fundamental syntax and semantic concepts in Python:\n",
    "\n",
    "**Syntax Rules Covered:**\n",
    "- Case sensitivity in variable names\n",
    "- Proper indentation for code blocks\n",
    "- Single line comments using `#`\n",
    "- Line continuation with backslash `\\`\n",
    "- Multiple statements on one line with semicolons `;`\n",
    "\n",
    "**Semantic Concepts Covered:**\n",
    "- Variable assignment and dynamic typing\n",
    "- Data type inference and checking with `type()`\n",
    "- Conditional statements and their execution flow\n",
    "- Common errors like NameError\n",
    "- Nested code blocks and indentation levels\n",
    "\n",
    "\n",
    "Understanding these fundamentals is crucial for writing clean, readable, and error-free Python code.\n"
   ]
  },
  {
   "cell_type": "markdown",
   "metadata": {},
   "source": []
  }
 ],
 "metadata": {
  "kernelspec": {
   "display_name": "Python 3",
   "language": "python",
   "name": "python3"
  },
  "language_info": {
   "codemirror_mode": {
    "name": "ipython",
    "version": 3
   },
   "file_extension": ".py",
   "mimetype": "text/x-python",
   "name": "python",
   "nbconvert_exporter": "python",
   "pygments_lexer": "ipython3",
   "version": "3.13.3"
  }
 },
 "nbformat": 4,
 "nbformat_minor": 2
}
