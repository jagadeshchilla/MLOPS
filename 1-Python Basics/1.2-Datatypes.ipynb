{
 "cells": [
  {
   "cell_type": "markdown",
   "metadata": {},
   "source": [
    "## DataTypes\n",
    "#### 1. Definition:\n",
    "\n",
    "- Data types are a classification of data which tell the compiler or interpreter how the programmer intends to use the data.\n",
    "- They determine the type of operations that can be performed on the data, the values that the data can take, and the amount of memory needed to store the data.\n",
    "\n",
    "#### 2. Importance of Data Types in Programming\n",
    "Explanation:\n",
    "\n",
    "- Data types ensure that data is stored in an efficient way.\n",
    "- They help in performing correct operations on data.\n",
    "- Proper use of data types can prevent errors and bugs in the program."
   ]
  },
  {
   "cell_type": "markdown",
   "metadata": {},
   "source": [
    "Outline:\n",
    "1. Introduction to Data Types\n",
    "2. Importance of Data Types in Programming\n",
    "3. Basic Data Types\n",
    "   - Integers\n",
    "   - Floating-point numbers\n",
    "   - Strings\n",
    "   - Booleans\n",
    "4. Advanced Data Types\n",
    "   - Lists\n",
    "   - Tuples\n",
    "   - Sets\n",
    "   - Dictionaries\n",
    "5. Type Conversion\n",
    "6. Practical Examples"
   ]
  },
  {
   "cell_type": "markdown",
   "metadata": {},
   "source": [
    "### Integer Data Type Example\n",
    "\n",
    "Let's start with the most basic numeric data type - **integers**:\n",
    "\n",
    "**Code Explanation:**\n",
    "- `age=35` - Creates an integer variable storing a whole number\n",
    "- `type(age)` - Returns `<class 'int'>` confirming it's an integer\n",
    "\n",
    "**Key Characteristics of Integers:**\n",
    "- Represent whole numbers (positive, negative, or zero)\n",
    "- No decimal point\n",
    "- Can be of any size (limited only by available memory)\n",
    "- Examples: `-100, 0, 42, 1000000`\n",
    "\n",
    "**Common Operations:**\n",
    "- Arithmetic: `+, -, *, /, //, %, **`\n",
    "- Comparison: `==, !=, <, >, <=, >=`\n",
    "- Used for counting, indexing, and mathematical calculations\n"
   ]
  },
  {
   "cell_type": "code",
   "execution_count": 1,
   "metadata": {},
   "outputs": [
    {
     "data": {
      "text/plain": [
       "int"
      ]
     },
     "execution_count": 1,
     "metadata": {},
     "output_type": "execute_result"
    }
   ],
   "source": [
    "## Integer Example\n",
    "age=35\n",
    "type(age)"
   ]
  },
  {
   "cell_type": "markdown",
   "metadata": {},
   "source": [
    "### Float (Floating-Point) Data Type\n",
    "\n",
    "Floats are used for decimal numbers and precise calculations:\n",
    "\n",
    "**Code Breakdown:**\n",
    "- `height=5.11` - Creates a float variable with decimal value\n",
    "- `print(height)` - Displays the decimal number: `5.11`\n",
    "- `print(type(height))` - Shows `<class 'float'>`\n",
    "\n",
    "**Key Characteristics of Floats:**\n",
    "- Represent real numbers with decimal points\n",
    "- Can be positive or negative\n",
    "- Support scientific notation (e.g., `1.5e10` = 15,000,000,000)\n",
    "- Have limited precision (about 15-17 decimal digits)\n",
    "\n",
    "**Examples of Float Values:**\n",
    "- `3.14159` (pi)\n",
    "- `-2.5` (negative decimal)\n",
    "- `0.0` (zero as float)\n",
    "- `1.23e-4` (scientific notation: 0.000123)\n",
    "\n",
    "**When to Use Floats:**\n",
    "- Measurements (height, weight, distance)\n",
    "- Financial calculations requiring decimals\n",
    "- Scientific computations\n",
    "- Any calculation requiring fractional values\n"
   ]
  },
  {
   "cell_type": "code",
   "execution_count": 2,
   "metadata": {},
   "outputs": [
    {
     "name": "stdout",
     "output_type": "stream",
     "text": [
      "5.11\n",
      "<class 'float'>\n"
     ]
    }
   ],
   "source": [
    "##floating point datatype\n",
    "height=5.11\n",
    "print(height)\n",
    "print(type(height))\n"
   ]
  },
  {
   "cell_type": "markdown",
   "metadata": {},
   "source": [
    "### String Data Type\n",
    "\n",
    "Strings are sequences of characters used to represent text:\n",
    "\n",
    "**Code Analysis:**\n",
    "- `name=\"jagadesh\"` - Creates a string variable enclosed in double quotes\n",
    "- `print(name)` - Displays the text: `jagadesh`\n",
    "- `print(type(name))` - Shows `<class 'str'>`\n",
    "\n",
    "**Key Characteristics of Strings:**\n",
    "- Sequence of characters (letters, numbers, symbols, spaces)\n",
    "- Enclosed in quotes: single `'text'` or double `\"text\"`\n",
    "- **Immutable** - cannot be changed after creation\n",
    "- Can contain any Unicode characters\n",
    "\n",
    "**String Creation Methods:**\n",
    "```python\n",
    "single_quotes = 'Hello World'\n",
    "double_quotes = \"Hello World\"\n",
    "triple_quotes = '''Multi-line\n",
    "string example'''\n",
    "```\n",
    "\n",
    "**Common String Operations:**\n",
    "- Concatenation: `\"Hello\" + \" World\"`\n",
    "- Repetition: `\"Hi\" * 3` → `\"HiHiHi\"`\n",
    "- Indexing: `name[0]` → `\"j\"`\n",
    "- Slicing: `name[1:4]` → `\"aga\"`\n",
    "- Length: `len(name)` → `5`\n",
    "\n",
    "**Use Cases:**\n",
    "- Names, addresses, messages\n",
    "- File paths and URLs\n",
    "- Data processing and text analysis\n",
    "- User interface text\n"
   ]
  },
  {
   "cell_type": "code",
   "execution_count": 7,
   "metadata": {},
   "outputs": [
    {
     "name": "stdout",
     "output_type": "stream",
     "text": [
      "jagadesh\n",
      "<class 'str'>\n"
     ]
    }
   ],
   "source": [
    "## string datatype example\n",
    "name=\"jagadesh\"\n",
    "print(name)\n",
    "print(type(name))"
   ]
  },
  {
   "cell_type": "markdown",
   "metadata": {},
   "source": [
    "### Boolean Data Type\n",
    "\n",
    "Booleans represent logical values - True or False:\n",
    "\n",
    "**Code Explanation:**\n",
    "- `is_true=True` - Creates a boolean variable with value `True`\n",
    "- `type(is_true)` - Returns `<class 'bool'>`\n",
    "\n",
    "**Key Characteristics of Booleans:**\n",
    "- Only two possible values: `True` or `False`\n",
    "- **Case-sensitive** - must be capitalized exactly\n",
    "- Subclass of integers (`True` = 1, `False` = 0)\n",
    "- Result of comparison and logical operations\n",
    "\n",
    "**Boolean Values:**\n",
    "- `True` - Represents a positive/affirmative condition\n",
    "- `False` - Represents a negative/false condition\n",
    "\n",
    "**How Booleans are Created:**\n",
    "1. **Direct assignment:** `flag = True`\n",
    "2. **Comparison operations:** `age > 18`\n",
    "3. **Logical operations:** `x and y`\n",
    "4. **Built-in functions:** `bool(value)`\n",
    "\n",
    "**Common Use Cases:**\n",
    "- Conditional statements (`if`, `while`)\n",
    "- Flags and status indicators\n",
    "- Loop control\n",
    "- Validation checks\n"
   ]
  },
  {
   "cell_type": "code",
   "execution_count": 4,
   "metadata": {},
   "outputs": [
    {
     "data": {
      "text/plain": [
       "bool"
      ]
     },
     "execution_count": 4,
     "metadata": {},
     "output_type": "execute_result"
    }
   ],
   "source": [
    "## boolean datatype\n",
    "is_true=True\n",
    "type(is_true)"
   ]
  },
  {
   "cell_type": "markdown",
   "metadata": {},
   "source": [
    "### Boolean from Comparison Operations\n",
    "\n",
    "This demonstrates how comparison operations return boolean values:\n",
    "\n",
    "**Code Breakdown:**\n",
    "- `a=10` and `b=10` - Create two integer variables with same value\n",
    "- `a==b` - Equality comparison operator\n",
    "- `type(a==b)` - Shows the result is `<class 'bool'>`\n",
    "\n",
    "**Comparison Operators that Return Booleans:**\n",
    "- `==` - Equal to\n",
    "- `!=` - Not equal to\n",
    "- `<` - Less than\n",
    "- `>` - Greater than\n",
    "- `<=` - Less than or equal to\n",
    "- `>=` - Greater than or equal to\n",
    "\n",
    "**Examples:**\n",
    "```python\n",
    "10 == 10    # True\n",
    "5 != 3      # True\n",
    "7 < 5       # False\n",
    "15 >= 15    # True\n",
    "```\n",
    "\n",
    "**Important Note:** \n",
    "- The comparison `a==b` evaluates to `True` because both variables contain the value 10\n",
    "- This boolean result can be stored in variables or used in conditional statements\n"
   ]
  },
  {
   "cell_type": "code",
   "execution_count": 5,
   "metadata": {},
   "outputs": [
    {
     "data": {
      "text/plain": [
       "bool"
      ]
     },
     "execution_count": 5,
     "metadata": {},
     "output_type": "execute_result"
    }
   ],
   "source": [
    "a=10\n",
    "b=10\n",
    "\n",
    "type(a==b)\n"
   ]
  },
  {
   "cell_type": "code",
   "execution_count": 6,
   "metadata": {},
   "outputs": [
    {
     "ename": "TypeError",
     "evalue": "can only concatenate str (not \"int\") to str",
     "output_type": "error",
     "traceback": [
      "\u001b[31m---------------------------------------------------------------------------\u001b[39m",
      "\u001b[31mTypeError\u001b[39m                                 Traceback (most recent call last)",
      "\u001b[36mCell\u001b[39m\u001b[36m \u001b[39m\u001b[32mIn[6]\u001b[39m\u001b[32m, line 3\u001b[39m\n\u001b[32m      1\u001b[39m \u001b[38;5;66;03m## common errors\u001b[39;00m\n\u001b[32m----> \u001b[39m\u001b[32m3\u001b[39m result=\u001b[33;43m\"\u001b[39;49m\u001b[33;43mHello\u001b[39;49m\u001b[33;43m\"\u001b[39;49m\u001b[43m \u001b[49m\u001b[43m+\u001b[49m\u001b[43m \u001b[49m\u001b[32;43m5\u001b[39;49m\n",
      "\u001b[31mTypeError\u001b[39m: can only concatenate str (not \"int\") to str"
     ]
    }
   ],
   "source": [
    "## common errors\n",
    "\n",
    "result=\"Hello\" + 5\n",
    " "
   ]
  },
  {
   "cell_type": "markdown",
   "metadata": {},
   "source": [
    "### Common Type Error: String and Integer Concatenation\n",
    "\n",
    "This demonstrates a frequent error when working with different data types:\n",
    "\n",
    "**Error Analysis:**\n",
    "- `result=\"Hello\" + 5` - Attempts to concatenate string and integer\n",
    "- **Result:** `TypeError: can only concatenate str (not \"int\") to str`\n",
    "\n",
    "**Why This Error Occurs:**\n",
    "- Python cannot directly combine different data types with the `+` operator\n",
    "- Strings and integers have different internal representations\n",
    "- The `+` operator has different meanings for different types:\n",
    "  - For strings: concatenation (`\"Hello\" + \"World\"`)\n",
    "  - For numbers: addition (`5 + 3`)\n",
    "\n",
    "**Key Learning Points:**\n",
    "- **Type safety:** Python prevents potentially dangerous operations\n",
    "- **Explicit conversion required:** Must convert types manually\n",
    "- **Clear error messages:** Python tells you exactly what went wrong\n",
    "\n",
    "**Common Scenarios Where This Happens:**\n",
    "- Mixing user input (strings) with calculations\n",
    "- Combining text with numeric results\n",
    "- Data processing without proper type checking\n"
   ]
  },
  {
   "cell_type": "markdown",
   "metadata": {},
   "source": [
    "### Solution: Type Conversion for Concatenation\n",
    "\n",
    "Here's how to fix the previous error using type conversion:\n",
    "\n",
    "**Code Solution:**\n",
    "- `result=\"Hello\" + str(5)` - Convert integer 5 to string \"5\"\n",
    "- `print(result)` - Successfully displays: `Hello5`\n",
    "\n",
    "**Step-by-Step Process:**\n",
    "1. `str(5)` converts integer `5` to string `\"5\"`\n",
    "2. `\"Hello\" + \"5\"` performs string concatenation\n",
    "3. Result is the combined string `\"Hello5\"`\n",
    "\n",
    "**Type Conversion Functions:**\n",
    "- `str()` - Convert to string\n",
    "- `int()` - Convert to integer\n",
    "- `float()` - Convert to float\n",
    "- `bool()` - Convert to boolean\n",
    "\n",
    "**Alternative Solutions:**\n",
    "```python\n",
    "# Using f-strings (recommended)\n",
    "result = f\"Hello{5}\"\n",
    "\n",
    "# Using format method\n",
    "result = \"Hello{}\".format(5)\n",
    "\n",
    "# Multiple conversions\n",
    "age = 25\n",
    "message = \"I am \" + str(age) + \" years old\"\n",
    "```\n",
    "\n",
    "**Best Practices:**\n",
    "- Always convert data types explicitly when combining different types\n",
    "- Use f-strings for cleaner, more readable code\n",
    "- Check data types before operations to prevent errors\n"
   ]
  },
  {
   "cell_type": "code",
   "execution_count": 14,
   "metadata": {},
   "outputs": [
    {
     "name": "stdout",
     "output_type": "stream",
     "text": [
      "Hello5\n"
     ]
    }
   ],
   "source": [
    "result=\"Hello\" + str(5)\n",
    "print(result)"
   ]
  },
  {
   "cell_type": "markdown",
   "metadata": {},
   "source": [
    "### Summary: Python Data Types\n",
    "\n",
    "This notebook covered the fundamental data types in Python:\n",
    "\n",
    "#### **Basic Data Types Covered:**\n",
    "\n",
    "1. **Integer (`int`)**\n",
    "   - Whole numbers without decimal points\n",
    "   - Examples: `35, -10, 0, 1000000`\n",
    "   - Used for counting, indexing, mathematical operations\n",
    "\n",
    "2. **Float (`float`)**\n",
    "   - Decimal numbers for precise calculations\n",
    "   - Examples: `5.11, -3.14, 0.0, 1.5e10`\n",
    "   - Used for measurements, scientific calculations\n",
    "\n",
    "3. **String (`str`)**\n",
    "   - Text data enclosed in quotes\n",
    "   - Examples: `\"Krish\", 'Hello World', \"\"\"Multi-line\"\"\"`\n",
    "   - Used for names, messages, file paths\n",
    "\n",
    "4. **Boolean (`bool`)**\n",
    "   - Logical values: `True` or `False`\n",
    "   - Result of comparisons and logical operations\n",
    "   - Used in conditional statements and flags\n",
    "\n",
    "#### **Key Concepts Learned:**\n",
    "\n",
    "**Type Checking:**\n",
    "- Use `type()` function to identify data types\n",
    "- Essential for debugging and understanding code behavior\n",
    "\n",
    "**Type Conversion:**\n",
    "- `str()`, `int()`, `float()`, `bool()` functions\n",
    "- Required when combining different data types\n",
    "- Prevents TypeError exceptions\n",
    "\n",
    "**Common Errors:**\n",
    "- **TypeError:** Mixing incompatible types (e.g., string + integer)\n",
    "- **ValueError:** Invalid conversions (e.g., `int(\"hello\")`)\n",
    "\n",
    "#### **Best Practices:**\n",
    "\n",
    "1. **Explicit Type Conversion:**\n",
    "   - Always convert types when combining different data types\n",
    "   - Use appropriate conversion functions\n",
    "\n",
    "2. **Error Prevention:**\n",
    "   - Check data types before operations\n",
    "   - Handle potential conversion errors\n",
    "\n",
    "3. **Code Readability:**\n",
    "   - Use f-strings for string formatting\n",
    "   - Choose descriptive variable names\n",
    "   - Comment complex type conversions\n",
    "\n",
    "#### **Real-World Applications:**\n",
    "- **User Input Processing:** Converting string input to numbers\n",
    "- **Data Analysis:** Working with different data types in datasets\n",
    "- **Web Development:** Handling form data and API responses\n",
    "- **Scientific Computing:** Precise calculations with floats\n",
    "\n",
    "Understanding data types is crucial for:\n",
    "- Writing bug-free code\n",
    "- Efficient memory usage\n",
    "- Proper data manipulation\n",
    "- Building robust applications\n",
    "\n",
    "These fundamental data types form the building blocks for more complex data structures like lists, dictionaries, and custom classes!\n"
   ]
  },
  {
   "cell_type": "raw",
   "metadata": {
    "vscode": {
     "languageId": "raw"
    }
   },
   "source": []
  },
  {
   "cell_type": "code",
   "execution_count": null,
   "metadata": {},
   "outputs": [],
   "source": []
  }
 ],
 "metadata": {
  "kernelspec": {
   "display_name": "Python 3",
   "language": "python",
   "name": "python3"
  },
  "language_info": {
   "codemirror_mode": {
    "name": "ipython",
    "version": 3
   },
   "file_extension": ".py",
   "mimetype": "text/x-python",
   "name": "python",
   "nbconvert_exporter": "python",
   "pygments_lexer": "ipython3",
   "version": "3.13.3"
  }
 },
 "nbformat": 4,
 "nbformat_minor": 2
}
