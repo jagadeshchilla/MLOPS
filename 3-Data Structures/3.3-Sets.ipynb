{
 "cells": [
  {
   "cell_type": "markdown",
   "metadata": {},
   "source": [
    "#### Sets in Python\n",
    "\n",
    "**Outline:**\n",
    "1. Introduction to Sets\n",
    "2. Creating Sets\n",
    "3. Basic Set Operations (Adding/Removing Elements)\n",
    "4. Set Membership Testing\n",
    "5. Mathematical Set Operations\n",
    "6. Set Methods and Relationships\n",
    "7. Practical Applications\n",
    "8. Best Practices and Common Use Cases\n",
    "\n",
    "---\n",
    "\n",
    "##### 1. Introduction to Sets\n",
    "\n",
    "**What are Sets?**\n",
    "- Sets are a **built-in data type** in Python used to store collections of **unique items**\n",
    "- They are **unordered**, meaning elements do not follow a specific sequence\n",
    "- They **do not allow duplicate elements** - duplicates are automatically removed\n",
    "- Sets are **mutable** - you can add and remove elements after creation\n",
    "\n",
    "**Key Characteristics:**\n",
    "- **Unordered:** No indexing, slicing, or other sequence-like behavior\n",
    "- **Unique Elements:** Automatically eliminates duplicates\n",
    "- **Mutable:** Can be modified after creation (unlike frozensets)\n",
    "- **Iterable:** Can be looped through\n",
    "- **Hashable Elements Only:** Can only contain immutable types (numbers, strings, tuples)\n",
    "\n",
    "**When to Use Sets:**\n",
    "- Remove duplicates from a collection\n",
    "- Perform mathematical set operations (union, intersection, etc.)\n",
    "- Fast membership testing (`in` operator)\n",
    "- Finding common or unique elements between collections"
   ]
  },
  {
   "cell_type": "markdown",
   "metadata": {
    "vscode": {
     "languageId": "raw"
    }
   },
   "source": [
    "##### 2. Creating Sets\n",
    "\n",
    "There are several ways to create sets in Python:\n"
   ]
  },
  {
   "cell_type": "code",
   "execution_count": 1,
   "metadata": {},
   "outputs": [
    {
     "name": "stdout",
     "output_type": "stream",
     "text": [
      "{1, 2, 3, 4, 5}\n",
      "<class 'set'>\n"
     ]
    }
   ],
   "source": [
    "##create a set\n",
    "my_set={1,2,3,4,5}\n",
    "print(my_set)\n",
    "print(type(my_set))"
   ]
  },
  {
   "cell_type": "code",
   "execution_count": 2,
   "metadata": {},
   "outputs": [
    {
     "name": "stdout",
     "output_type": "stream",
     "text": [
      "<class 'set'>\n"
     ]
    }
   ],
   "source": [
    "my_empty_set=set()\n",
    "print(type(my_empty_set))"
   ]
  },
  {
   "cell_type": "code",
   "execution_count": 4,
   "metadata": {},
   "outputs": [
    {
     "name": "stdout",
     "output_type": "stream",
     "text": [
      "{1, 2, 3, 4, 5, 6}\n"
     ]
    }
   ],
   "source": [
    "my_set=set([1,2,3,4,5,6])\n",
    "print(my_set)"
   ]
  },
  {
   "cell_type": "code",
   "execution_count": 6,
   "metadata": {},
   "outputs": [
    {
     "name": "stdout",
     "output_type": "stream",
     "text": [
      "{1, 2, 3, 4, 5, 6}\n"
     ]
    }
   ],
   "source": [
    "my_empty_set=set([1,2,3,6,5,4,5,6])\n",
    "print(my_empty_set)"
   ]
  },
  {
   "cell_type": "markdown",
   "metadata": {
    "vscode": {
     "languageId": "raw"
    }
   },
   "source": [
    "**Set Creation Methods:**\n",
    "- **Literal notation:** `{1, 2, 3, 4, 5}`\n",
    "- **Empty set:** `set()` (Note: `{}` creates an empty dictionary, not a set!)\n",
    "- **From iterables:** `set([1, 2, 3])` or `set(\"hello\")`\n",
    "- **Automatic duplicate removal:** `set([1, 2, 2, 3])` becomes `{1, 2, 3}`\n",
    "\n",
    "**Important Note:** \n",
    "- Use `set()` to create an empty set, not `{}`\n",
    "- Duplicates are automatically removed during creation\n"
   ]
  },
  {
   "cell_type": "markdown",
   "metadata": {
    "vscode": {
     "languageId": "raw"
    }
   },
   "source": [
    "##### 3. Basic Set Operations (Adding/Removing Elements)\n",
    "\n",
    "Sets provide several methods to modify their contents:\n"
   ]
  },
  {
   "cell_type": "code",
   "execution_count": 9,
   "metadata": {},
   "outputs": [
    {
     "name": "stdout",
     "output_type": "stream",
     "text": [
      "{1, 2, 3, 4, 5, 6, 7}\n",
      "{1, 2, 3, 4, 5, 6, 7}\n"
     ]
    }
   ],
   "source": [
    "## Basics Sets Operation\n",
    "## Adiing and Removing Elements\n",
    "my_set.add(7)\n",
    "print(my_set)\n",
    "my_set.add(7)\n",
    "print(my_set)"
   ]
  },
  {
   "cell_type": "code",
   "execution_count": 10,
   "metadata": {},
   "outputs": [
    {
     "name": "stdout",
     "output_type": "stream",
     "text": [
      "{1, 2, 4, 5, 6, 7}\n"
     ]
    }
   ],
   "source": [
    "## Remove the elements from a set\n",
    "my_set.remove(3)\n",
    "print(my_set)"
   ]
  },
  {
   "cell_type": "code",
   "execution_count": 11,
   "metadata": {},
   "outputs": [
    {
     "ename": "KeyError",
     "evalue": "10",
     "output_type": "error",
     "traceback": [
      "\u001b[1;31m---------------------------------------------------------------------------\u001b[0m",
      "\u001b[1;31mKeyError\u001b[0m                                  Traceback (most recent call last)",
      "Cell \u001b[1;32mIn[11], line 1\u001b[0m\n\u001b[1;32m----> 1\u001b[0m \u001b[43mmy_set\u001b[49m\u001b[38;5;241;43m.\u001b[39;49m\u001b[43mremove\u001b[49m\u001b[43m(\u001b[49m\u001b[38;5;241;43m10\u001b[39;49m\u001b[43m)\u001b[49m\n",
      "\u001b[1;31mKeyError\u001b[0m: 10"
     ]
    }
   ],
   "source": [
    "my_set.remove(10)"
   ]
  },
  {
   "cell_type": "code",
   "execution_count": 13,
   "metadata": {},
   "outputs": [
    {
     "name": "stdout",
     "output_type": "stream",
     "text": [
      "{1, 2, 4, 5, 6, 7}\n"
     ]
    }
   ],
   "source": [
    "my_set.discard(11)\n",
    "print(my_set)"
   ]
  },
  {
   "cell_type": "code",
   "execution_count": 14,
   "metadata": {},
   "outputs": [
    {
     "name": "stdout",
     "output_type": "stream",
     "text": [
      "1\n",
      "{2, 4, 5, 6, 7}\n"
     ]
    }
   ],
   "source": [
    "## pop method\n",
    "removed_element=my_set.pop()\n",
    "print(removed_element)\n",
    "print(my_set)"
   ]
  },
  {
   "cell_type": "code",
   "execution_count": 15,
   "metadata": {},
   "outputs": [
    {
     "name": "stdout",
     "output_type": "stream",
     "text": [
      "set()\n"
     ]
    }
   ],
   "source": [
    "## clear all the elements\n",
    "my_set.clear()\n",
    "print(my_set)"
   ]
  },
  {
   "cell_type": "markdown",
   "metadata": {
    "vscode": {
     "languageId": "raw"
    }
   },
   "source": [
    "**Set Modification Methods:**\n",
    "\n",
    "**Adding Elements:**\n",
    "- **`add(element)`:** Adds a single element to the set\n",
    "- **`update(iterable)`:** Adds multiple elements from an iterable\n",
    "\n",
    "**Removing Elements:**\n",
    "- **`remove(element)`:** Removes element; raises KeyError if not found\n",
    "- **`discard(element)`:** Removes element; does nothing if not found  \n",
    "- **`pop()`:** Removes and returns arbitrary element; raises KeyError if empty\n",
    "- **`clear()`:** Removes all elements from the set\n",
    "\n",
    "**Key Differences:**\n",
    "- `remove()` vs `discard()`: `remove()` raises error if element not found, `discard()` doesn't\n",
    "- `pop()` removes arbitrary element since sets are unordered\n"
   ]
  },
  {
   "cell_type": "markdown",
   "metadata": {
    "vscode": {
     "languageId": "raw"
    }
   },
   "source": [
    "##### 4. Set Membership Testing\n",
    "\n",
    "One of the most powerful features of sets is fast membership testing:\n"
   ]
  },
  {
   "cell_type": "code",
   "execution_count": 16,
   "metadata": {},
   "outputs": [
    {
     "name": "stdout",
     "output_type": "stream",
     "text": [
      "True\n",
      "False\n"
     ]
    }
   ],
   "source": [
    "## Set Memebership test\n",
    "my_set={1,2,3,4,5}\n",
    "print(3 in my_set)\n",
    "print(10 in my_set)"
   ]
  },
  {
   "cell_type": "markdown",
   "metadata": {
    "vscode": {
     "languageId": "raw"
    }
   },
   "source": [
    "**Membership Testing:**\n",
    "- **`element in set`:** Returns `True` if element exists, `False` otherwise\n",
    "- **`element not in set`:** Returns `True` if element doesn't exist\n",
    "- **Performance:** O(1) average time complexity - much faster than lists!\n",
    "\n",
    "**Why Sets are Fast for Membership Testing:**\n",
    "- Sets use hash tables internally\n",
    "- Average case: O(1) lookup time\n",
    "- Lists require O(n) linear search\n",
    "- Critical for performance when checking membership frequently\n"
   ]
  },
  {
   "cell_type": "markdown",
   "metadata": {
    "vscode": {
     "languageId": "raw"
    }
   },
   "source": [
    "##### 5. Mathematical Set Operations\n",
    "\n",
    "Sets support all standard mathematical set operations:\n"
   ]
  },
  {
   "cell_type": "code",
   "execution_count": 20,
   "metadata": {},
   "outputs": [
    {
     "name": "stdout",
     "output_type": "stream",
     "text": [
      "{1, 2, 3, 4, 5, 6, 7, 8, 9}\n",
      "{4, 5, 6}\n",
      "{4, 5, 6}\n"
     ]
    }
   ],
   "source": [
    "## MAthematical Operation\n",
    "set1={1,2,3,4,5,6}\n",
    "set2={4,5,6,7,8,9}\n",
    "\n",
    "### Union\n",
    "union_set=set1.union(set2)\n",
    "print(union_set)\n",
    "\n",
    "## Intersection\n",
    "intersection_set=set1.intersection(set2)\n",
    "print(intersection_set)\n",
    "\n",
    "set1.intersection_update(set2)\n",
    "print(set1)"
   ]
  },
  {
   "cell_type": "code",
   "execution_count": 21,
   "metadata": {},
   "outputs": [
    {
     "name": "stdout",
     "output_type": "stream",
     "text": [
      "{1, 2, 3}\n"
     ]
    }
   ],
   "source": [
    "set1={1,2,3,4,5,6}\n",
    "set2={4,5,6,7,8,9}\n",
    "\n",
    "## Difference \n",
    "print(set1.difference(set2))"
   ]
  },
  {
   "cell_type": "code",
   "execution_count": 22,
   "metadata": {},
   "outputs": [
    {
     "data": {
      "text/plain": [
       "{1, 2, 3, 4, 5, 6}"
      ]
     },
     "execution_count": 22,
     "metadata": {},
     "output_type": "execute_result"
    }
   ],
   "source": [
    "set1"
   ]
  },
  {
   "cell_type": "code",
   "execution_count": 24,
   "metadata": {},
   "outputs": [
    {
     "data": {
      "text/plain": [
       "{7, 8, 9}"
      ]
     },
     "execution_count": 24,
     "metadata": {},
     "output_type": "execute_result"
    }
   ],
   "source": [
    "set2.difference(set1)"
   ]
  },
  {
   "cell_type": "markdown",
   "metadata": {
    "vscode": {
     "languageId": "raw"
    }
   },
   "source": [
    "**Mathematical Set Operations:**\n",
    "\n",
    "**1. Union (`|` or `union()`):**\n",
    "- Combines all unique elements from both sets\n",
    "- `set1 | set2` or `set1.union(set2)`\n",
    "\n",
    "**2. Intersection (`&` or `intersection()`):**\n",
    "- Returns elements common to both sets\n",
    "- `set1 & set2` or `set1.intersection(set2)`\n",
    "\n",
    "**3. Difference (`-` or `difference()`):**\n",
    "- Returns elements in first set but not in second\n",
    "- `set1 - set2` or `set1.difference(set2)`\n",
    "\n",
    "**4. Symmetric Difference (`^` or `symmetric_difference()`):**\n",
    "- Returns elements in either set, but not in both\n",
    "- `set1 ^ set2` or `set1.symmetric_difference(set2)`\n",
    "\n",
    "**Update Methods:**\n",
    "- `intersection_update()`: Modifies set to keep only common elements\n",
    "- `difference_update()`: Modifies set to remove elements found in other set\n",
    "- `symmetric_difference_update()`: Modifies set to symmetric difference\n"
   ]
  },
  {
   "cell_type": "code",
   "execution_count": 25,
   "metadata": {},
   "outputs": [
    {
     "data": {
      "text/plain": [
       "{1, 2, 3, 7, 8, 9}"
      ]
     },
     "execution_count": 25,
     "metadata": {},
     "output_type": "execute_result"
    }
   ],
   "source": [
    "## Symmetric Difference\n",
    "set1.symmetric_difference(set2)"
   ]
  },
  {
   "cell_type": "code",
   "execution_count": 30,
   "metadata": {},
   "outputs": [
    {
     "name": "stdout",
     "output_type": "stream",
     "text": [
      "False\n",
      "True\n"
     ]
    }
   ],
   "source": [
    "## Sets Methods\n",
    "set1={1,2,3,4,5}\n",
    "set2={3,4,5}\n",
    "\n",
    "## is subset\n",
    "print(set1.issubset(set2))\n",
    "\n",
    "print(set1.issuperset(set2))"
   ]
  },
  {
   "cell_type": "code",
   "execution_count": 31,
   "metadata": {},
   "outputs": [
    {
     "data": {
      "text/plain": [
       "{1, 2, 3, 4, 5}"
      ]
     },
     "execution_count": 31,
     "metadata": {},
     "output_type": "execute_result"
    }
   ],
   "source": [
    "lst=[1,2,2,3,4,4,5]\n",
    "\n",
    "set(lst)"
   ]
  },
  {
   "cell_type": "code",
   "execution_count": 32,
   "metadata": {},
   "outputs": [
    {
     "name": "stdout",
     "output_type": "stream",
     "text": [
      "{'tutorial', 'we', 'discussing', 'this', 'In', 'about', 'sets', 'are'}\n",
      "8\n"
     ]
    }
   ],
   "source": [
    "### Counting Unique words in text\n",
    "\n",
    "text=\"In this tutorial we are discussing about sets\"\n",
    "words=text.split()\n",
    "\n",
    "## convert list of words to set to get unique words\n",
    "\n",
    "unique_words=set(words)\n",
    "print(unique_words)\n",
    "print(len(unique_words))"
   ]
  },
  {
   "cell_type": "markdown",
   "metadata": {
    "vscode": {
     "languageId": "raw"
    }
   },
   "source": [
    "##### 6. Set Methods and Relationships\n",
    "\n",
    "Sets provide methods to test relationships between sets:\n"
   ]
  },
  {
   "cell_type": "markdown",
   "metadata": {},
   "source": [
    "#### Conclusion\n",
    "Sets are a powerful and flexible data type in Python that provide a way to store collections of unique elements. They support various operations such as union, intersection, difference, and symmetric difference, which are useful for mathematical computations. Understanding how to use sets and their associated methods can help you write more efficient and clean Python code, especially when dealing with unique collections and membership tests."
   ]
  },
  {
   "cell_type": "markdown",
   "metadata": {
    "vscode": {
     "languageId": "raw"
    }
   },
   "source": [
    "**Set Relationship Methods:**\n",
    "\n",
    "**1. Subset Testing:**\n",
    "- **`issubset(other)`:** Returns `True` if all elements of set are in other set\n",
    "- **`<=` operator:** Same as `issubset()`\n",
    "- **`<` operator:** True subset (subset but not equal)\n",
    "\n",
    "**2. Superset Testing:**\n",
    "- **`issuperset(other)`:** Returns `True` if set contains all elements of other set\n",
    "- **`>=` operator:** Same as `issuperset()`\n",
    "- **`>` operator:** True superset (superset but not equal)\n",
    "\n",
    "**3. Disjoint Testing:**\n",
    "- **`isdisjoint(other)`:** Returns `True` if sets have no common elements\n",
    "\n",
    "**Real-world Applications:**\n",
    "- **Subset:** Check if user permissions are subset of required permissions\n",
    "- **Superset:** Verify if a dataset contains all required fields\n",
    "- **Disjoint:** Ensure no conflicts between different categories\n"
   ]
  },
  {
   "cell_type": "markdown",
   "metadata": {
    "vscode": {
     "languageId": "raw"
    }
   },
   "source": [
    "##### 7. Practical Applications\n",
    "\n",
    "Let's explore some real-world use cases for sets:\n"
   ]
  },
  {
   "cell_type": "markdown",
   "metadata": {
    "vscode": {
     "languageId": "raw"
    }
   },
   "source": [
    "**Common Practical Applications:**\n",
    "\n",
    "**1. Removing Duplicates:**\n",
    "- Convert list to set to remove duplicates: `unique_items = set(my_list)`\n",
    "- Useful for data cleaning and preprocessing\n",
    "\n",
    "**2. Finding Unique Words:**\n",
    "- Text analysis and natural language processing\n",
    "- Count unique vocabulary in documents\n",
    "\n",
    "**3. Database Operations:**\n",
    "- Find common records between datasets\n",
    "- Identify missing or extra records\n",
    "\n",
    "**4. User Permission Systems:**\n",
    "- Check if user has required permissions\n",
    "- Manage role-based access control\n",
    "\n",
    "**5. Data Validation:**\n",
    "- Ensure no duplicate IDs in datasets\n",
    "- Validate that required fields are present\n",
    "\n",
    "**6. Algorithm Optimization:**\n",
    "- Fast lookups for visited nodes in graph algorithms\n",
    "- Membership testing in search algorithms\n"
   ]
  }
 ],
 "metadata": {
  "kernelspec": {
   "display_name": "Python 3",
   "language": "python",
   "name": "python3"
  },
  "language_info": {
   "codemirror_mode": {
    "name": "ipython",
    "version": 3
   },
   "file_extension": ".py",
   "mimetype": "text/x-python",
   "name": "python",
   "nbconvert_exporter": "python",
   "pygments_lexer": "ipython3",
   "version": "3.12.0"
  }
 },
 "nbformat": 4,
 "nbformat_minor": 2
}
