{
 "cells": [
  {
   "cell_type": "markdown",
   "metadata": {},
   "source": [
    "#### Dictionaries in Python\n",
    "\n",
    "**Complete Guide Outline:**\n",
    "1. Introduction to Dictionaries\n",
    "2. Creating Dictionaries\n",
    "3. Accessing Dictionary Elements\n",
    "4. Modifying Dictionary Elements\n",
    "5. Dictionary Methods\n",
    "6. Iterating Over Dictionaries\n",
    "7. Nested Dictionaries\n",
    "8. Dictionary Comprehensions\n",
    "9. Practical Examples and Real-world Applications\n",
    "10. Best Practices and Performance Considerations\n",
    "\n",
    "---"
   ]
  },
  {
   "cell_type": "markdown",
   "metadata": {},
   "source": [
    "##### 1. Introduction to Dictionaries\n",
    "\n",
    "**What are Dictionaries?**\n",
    "- Dictionaries are **mutable, unordered collections** that store data in **key-value pairs**\n",
    "- They are one of the most important and versatile data structures in Python\n",
    "- Also known as **associative arrays**, **hash maps**, or **hash tables** in other languages\n",
    "\n",
    "**Key Characteristics:**\n",
    "- **Key-Value Structure:** Each item consists of a key and its associated value\n",
    "- **Unique Keys:** Keys must be unique within a dictionary\n",
    "- **Immutable Keys:** Keys must be immutable types (strings, numbers, tuples)\n",
    "- **Any Value Type:** Values can be any Python object (mutable or immutable)\n",
    "- **Mutable:** Dictionaries can be modified after creation\n",
    "- **Unordered:** As of Python 3.7+, dictionaries maintain insertion order\n",
    "\n",
    "**Why Use Dictionaries?**\n",
    "- **Fast lookups:** O(1) average time complexity for access operations\n",
    "- **Natural data representation:** Perfect for real-world data modeling\n",
    "- **Flexible:** Can store heterogeneous data types\n",
    "- **Readable:** Key names make code self-documenting"
   ]
  },
  {
   "cell_type": "markdown",
   "metadata": {
    "vscode": {
     "languageId": "raw"
    }
   },
   "source": [
    "##### 2. Creating Dictionaries\n",
    "\n",
    "There are several ways to create dictionaries in Python:\n"
   ]
  },
  {
   "cell_type": "code",
   "execution_count": 1,
   "metadata": {},
   "outputs": [
    {
     "name": "stdout",
     "output_type": "stream",
     "text": [
      "<class 'dict'>\n"
     ]
    }
   ],
   "source": [
    "## Creating Dictionaries\n",
    "empty_dict={}\n",
    "print(type(empty_dict))"
   ]
  },
  {
   "cell_type": "code",
   "execution_count": 2,
   "metadata": {},
   "outputs": [
    {
     "data": {
      "text/plain": [
       "{}"
      ]
     },
     "execution_count": 2,
     "metadata": {},
     "output_type": "execute_result"
    }
   ],
   "source": [
    "empty_dict=dict()\n",
    "empty_dict"
   ]
  },
  {
   "cell_type": "code",
   "execution_count": 4,
   "metadata": {},
   "outputs": [
    {
     "name": "stdout",
     "output_type": "stream",
     "text": [
      "{'name': 'Krish', 'age': 32, 'grade': 24}\n",
      "<class 'dict'>\n"
     ]
    }
   ],
   "source": [
    "student={\"name\":\"Krish\",\"age\":32,\"grade\":24}\n",
    "print(student)\n",
    "print(type(student))"
   ]
  },
  {
   "cell_type": "markdown",
   "metadata": {
    "vscode": {
     "languageId": "raw"
    }
   },
   "source": [
    "**Dictionary Creation Methods:**\n",
    "\n",
    "**1. Literal Notation:** `{key1: value1, key2: value2}`\n",
    "- Most common and readable method\n",
    "- Use curly braces with key-value pairs separated by colons\n",
    "\n",
    "**2. Empty Dictionary:** `{}` or `dict()`\n",
    "- `{}` creates empty dictionary (literal)\n",
    "- `dict()` creates empty dictionary (constructor)\n",
    "\n",
    "**3. Constructor Method:** `dict(key1=value1, key2=value2)`\n",
    "- Useful when keys are valid Python identifiers\n",
    "\n",
    "**4. From Sequences:** `dict([(key1, value1), (key2, value2)])`\n",
    "- Create from list of tuples or other key-value sequences\n",
    "\n",
    "**Important Notes:**\n",
    "- **Duplicate keys:** If duplicate keys exist, the last value overwrites previous ones\n",
    "- **Key types:** Only immutable types can be keys (str, int, float, tuple)\n",
    "- **Value types:** Any Python object can be a value\n"
   ]
  },
  {
   "cell_type": "markdown",
   "metadata": {
    "vscode": {
     "languageId": "raw"
    }
   },
   "source": [
    "##### 3. Accessing Dictionary Elements\n",
    "\n",
    "Dictionaries provide multiple ways to access values:\n"
   ]
  },
  {
   "cell_type": "code",
   "execution_count": 5,
   "metadata": {},
   "outputs": [
    {
     "name": "stdout",
     "output_type": "stream",
     "text": [
      "{'name': 24, 'age': 32}\n"
     ]
    }
   ],
   "source": [
    "# Single key is slways used\n",
    "student={\"name\":\"Krish\",\"age\":32,\"name\":24}\n",
    "print(student)"
   ]
  },
  {
   "cell_type": "markdown",
   "metadata": {
    "vscode": {
     "languageId": "raw"
    }
   },
   "source": [
    "**Dictionary Access Methods:**\n",
    "\n",
    "**1. Square Bracket Notation:** `dict[key]`\n",
    "- Direct access using the key\n",
    "- **Raises KeyError** if key doesn't exist\n",
    "- Fastest method for existing keys\n",
    "\n",
    "**2. get() Method:** `dict.get(key, default_value)`\n",
    "- Safe access method\n",
    "- Returns `None` if key doesn't exist (or specified default)\n",
    "- **Never raises KeyError**\n",
    "- Preferred for uncertain key existence\n",
    "\n",
    "**Comparison:**\n",
    "```python\n",
    "# Square brackets - raises error if key missing\n",
    "value = student['grade']  # KeyError if 'grade' doesn't exist\n",
    "\n",
    "# get() method - safe access\n",
    "value = student.get('grade', 'Not Available')  # Returns default if missing\n",
    "```\n",
    "\n",
    "**Best Practices:**\n",
    "- Use `[]` when you're certain the key exists\n",
    "- Use `get()` when key might not exist\n",
    "- Always provide meaningful default values with `get()`\n"
   ]
  },
  {
   "cell_type": "raw",
   "metadata": {
    "vscode": {
     "languageId": "raw"
    }
   },
   "source": [
    "##### 4. Modifying Dictionary Elements\n",
    "\n",
    "Dictionaries are mutable, allowing various modification operations:\n"
   ]
  },
  {
   "cell_type": "code",
   "execution_count": 6,
   "metadata": {},
   "outputs": [
    {
     "name": "stdout",
     "output_type": "stream",
     "text": [
      "{'name': 'Krish', 'age': 32, 'grade': 'A'}\n"
     ]
    }
   ],
   "source": [
    "## accessing Dictionary Elements\n",
    "student={\"name\":\"Krish\",\"age\":32,\"grade\":'A'}\n",
    "print(student)"
   ]
  },
  {
   "cell_type": "code",
   "execution_count": 10,
   "metadata": {},
   "outputs": [
    {
     "name": "stdout",
     "output_type": "stream",
     "text": [
      "A\n",
      "32\n",
      "A\n",
      "None\n",
      "Not Available\n"
     ]
    }
   ],
   "source": [
    "## Accessing Dictionary elements\n",
    "print(student['grade'])\n",
    "print(student['age'])\n",
    "\n",
    "## Accessing using get() method\n",
    "print(student.get('grade'))\n",
    "print(student.get('last_name'))\n",
    "print(student.get('last_name',\"Not Available\"))\n"
   ]
  },
  {
   "cell_type": "markdown",
   "metadata": {
    "vscode": {
     "languageId": "raw"
    }
   },
   "source": [
    "**Dictionary Modification Operations:**\n",
    "\n",
    "**1. Update Existing Values:**\n",
    "```python\n",
    "dict[existing_key] = new_value\n",
    "```\n",
    "\n",
    "**2. Add New Key-Value Pairs:**\n",
    "```python\n",
    "dict[new_key] = value\n",
    "```\n",
    "\n",
    "**3. Delete Elements:**\n",
    "- **`del dict[key]`:** Removes key-value pair, raises KeyError if key missing\n",
    "- **`dict.pop(key, default)`:** Removes and returns value, optional default\n",
    "- **`dict.popitem()`:** Removes and returns last inserted key-value pair\n",
    "- **`dict.clear()`:** Removes all elements\n",
    "\n",
    "**4. Update Multiple Values:**\n",
    "- **`dict.update(other_dict)`:** Merge another dictionary\n",
    "- **`dict.update(key1=value1, key2=value2)`:** Update with keyword arguments\n",
    "\n",
    "**Memory Considerations:**\n",
    "- Dictionaries store references to objects\n",
    "- Modifying mutable values affects all references\n",
    "- Use `copy()` for shallow copying when needed\n"
   ]
  },
  {
   "cell_type": "markdown",
   "metadata": {
    "vscode": {
     "languageId": "raw"
    }
   },
   "source": [
    "##### 5. Dictionary Methods\n",
    "\n",
    "Dictionaries provide many useful built-in methods:\n"
   ]
  },
  {
   "cell_type": "code",
   "execution_count": 11,
   "metadata": {},
   "outputs": [
    {
     "name": "stdout",
     "output_type": "stream",
     "text": [
      "{'name': 'Krish', 'age': 32, 'grade': 'A'}\n"
     ]
    }
   ],
   "source": [
    "## Modifying Dicitonary Elements\n",
    "## Dictionary are mutable,so you can add, update or delete elements\n",
    "print(student)"
   ]
  },
  {
   "cell_type": "code",
   "execution_count": 12,
   "metadata": {},
   "outputs": [
    {
     "name": "stdout",
     "output_type": "stream",
     "text": [
      "{'name': 'Krish', 'age': 33, 'grade': 'A'}\n",
      "{'name': 'Krish', 'age': 33, 'grade': 'A', 'address': 'India'}\n"
     ]
    }
   ],
   "source": [
    "student[\"age\"]=33  ##update value for the key\n",
    "print(student)\n",
    "student[\"address\"]=\"India\" ## added a new key and value\n",
    "print(student)"
   ]
  },
  {
   "cell_type": "code",
   "execution_count": 13,
   "metadata": {},
   "outputs": [
    {
     "name": "stdout",
     "output_type": "stream",
     "text": [
      "{'name': 'Krish', 'age': 33, 'address': 'India'}\n"
     ]
    }
   ],
   "source": [
    "del student['grade'] ## delete key and value pair\n",
    "\n",
    "print(student)"
   ]
  },
  {
   "cell_type": "code",
   "execution_count": 14,
   "metadata": {},
   "outputs": [
    {
     "name": "stdout",
     "output_type": "stream",
     "text": [
      "dict_keys(['name', 'age', 'address'])\n",
      "dict_values(['Krish', 33, 'India'])\n",
      "dict_items([('name', 'Krish'), ('age', 33), ('address', 'India')])\n"
     ]
    }
   ],
   "source": [
    "## Dictionary methods\n",
    "\n",
    "keys=student.keys() ##get all the keys\n",
    "print(keys)\n",
    "values=student.values() ##get all values\n",
    "print(values)\n",
    "\n",
    "items=student.items() ##get all key value pairs\n",
    "print(items)"
   ]
  },
  {
   "cell_type": "code",
   "execution_count": 22,
   "metadata": {},
   "outputs": [
    {
     "name": "stdout",
     "output_type": "stream",
     "text": [
      "{'name': 'Krish1', 'age': 33, 'address': 'India'}\n",
      "{'name': 'Krish1', 'age': 33, 'address': 'India'}\n"
     ]
    }
   ],
   "source": [
    "## shallow copy\n",
    "student_copy=student\n",
    "print(student)\n",
    "print(student_copy)"
   ]
  },
  {
   "cell_type": "markdown",
   "metadata": {
    "vscode": {
     "languageId": "raw"
    }
   },
   "source": [
    "**Essential Dictionary Methods:**\n",
    "\n",
    "**1. View Methods (return dictionary views):**\n",
    "- **`keys()`:** Returns all keys as a dict_keys object\n",
    "- **`values()`:** Returns all values as a dict_values object  \n",
    "- **`items()`:** Returns key-value pairs as a dict_items object\n",
    "\n",
    "**2. Copy Methods:**\n",
    "- **`copy()`:** Creates a shallow copy of the dictionary\n",
    "- **Assignment (`=`):** Creates a reference, not a copy!\n",
    "\n",
    "**3. Search and Test Methods:**\n",
    "- **`get(key, default)`:** Safe value retrieval\n",
    "- **`setdefault(key, default)`:** Get value or set default if key missing\n",
    "- **`key in dict`:** Test if key exists (membership testing)\n",
    "\n",
    "**Understanding Copy vs Reference:**\n",
    "```python\n",
    "# Reference (both variables point to same dictionary)\n",
    "dict_ref = original_dict\n",
    "\n",
    "# Shallow copy (new dictionary, but same object references)\n",
    "dict_copy = original_dict.copy()\n",
    "```\n",
    "\n",
    "**Dictionary Views:**\n",
    "- Views are dynamic - they reflect changes to the original dictionary\n",
    "- Useful for iteration and set-like operations\n",
    "- Memory efficient - don't create new lists\n"
   ]
  },
  {
   "cell_type": "markdown",
   "metadata": {
    "vscode": {
     "languageId": "raw"
    }
   },
   "source": [
    "##### 6. Iterating Over Dictionaries\n",
    "\n",
    "Dictionaries provide multiple iteration patterns:\n"
   ]
  },
  {
   "cell_type": "code",
   "execution_count": 23,
   "metadata": {},
   "outputs": [
    {
     "name": "stdout",
     "output_type": "stream",
     "text": [
      "{'name': 'Krish2', 'age': 33, 'address': 'India'}\n",
      "{'name': 'Krish2', 'age': 33, 'address': 'India'}\n"
     ]
    }
   ],
   "source": [
    "student[\"name\"]=\"Krish2\"\n",
    "print(student)\n",
    "print(student_copy)\n"
   ]
  },
  {
   "cell_type": "code",
   "execution_count": 24,
   "metadata": {},
   "outputs": [
    {
     "name": "stdout",
     "output_type": "stream",
     "text": [
      "{'name': 'Krish2', 'age': 33, 'address': 'India'}\n",
      "{'name': 'Krish2', 'age': 33, 'address': 'India'}\n"
     ]
    }
   ],
   "source": [
    "student_copy1=student.copy() ## shallow copy\n",
    "print(student_copy1)\n",
    "print(student)"
   ]
  },
  {
   "cell_type": "code",
   "execution_count": 25,
   "metadata": {},
   "outputs": [
    {
     "name": "stdout",
     "output_type": "stream",
     "text": [
      "{'name': 'Krish2', 'age': 33, 'address': 'India'}\n",
      "{'name': 'KRish3', 'age': 33, 'address': 'India'}\n"
     ]
    }
   ],
   "source": [
    "student[\"name\"]=\"KRish3\"\n",
    "print(student_copy1)\n",
    "print(student)"
   ]
  },
  {
   "cell_type": "markdown",
   "metadata": {
    "vscode": {
     "languageId": "raw"
    }
   },
   "source": [
    "**Dictionary Iteration Patterns:**\n",
    "\n",
    "**1. Iterate Over Keys:**\n",
    "```python\n",
    "for key in dict.keys():    # Explicit\n",
    "for key in dict:           # Implicit (default behavior)\n",
    "```\n",
    "\n",
    "**2. Iterate Over Values:**\n",
    "```python\n",
    "for value in dict.values():\n",
    "```\n",
    "\n",
    "**3. Iterate Over Key-Value Pairs:**\n",
    "```python\n",
    "for key, value in dict.items():    # Most common pattern\n",
    "```\n",
    "\n",
    "**4. Iterate with Index:**\n",
    "```python\n",
    "for index, (key, value) in enumerate(dict.items()):\n",
    "```\n",
    "\n",
    "**Performance Notes:**\n",
    "- **Direct iteration** (`for key in dict`) is fastest for keys\n",
    "- **`items()`** is most readable for key-value pairs\n",
    "- **Dictionary views** are memory efficient\n",
    "- **Avoid** converting to lists unless necessary\n",
    "\n",
    "**Best Practices:**\n",
    "- Use `items()` when you need both key and value\n",
    "- Use descriptive variable names in unpacking\n",
    "- Consider using `enumerate()` when you need index information\n"
   ]
  },
  {
   "cell_type": "markdown",
   "metadata": {
    "vscode": {
     "languageId": "raw"
    }
   },
   "source": [
    "##### 7. Nested Dictionaries\n",
    "\n",
    "Dictionaries can contain other dictionaries, creating complex data structures:\n"
   ]
  },
  {
   "cell_type": "code",
   "execution_count": 27,
   "metadata": {},
   "outputs": [
    {
     "name": "stdout",
     "output_type": "stream",
     "text": [
      "name\n",
      "age\n",
      "address\n"
     ]
    }
   ],
   "source": [
    "### Iterating Over Dictionaries\n",
    "## You can use loops to iterate over dictionatries, keys,values,or items\n",
    "\n",
    "## Iterating over keys\n",
    "for keys in student.keys():\n",
    "    print(keys)\n"
   ]
  },
  {
   "cell_type": "code",
   "execution_count": 28,
   "metadata": {},
   "outputs": [
    {
     "name": "stdout",
     "output_type": "stream",
     "text": [
      "KRish3\n",
      "33\n",
      "India\n"
     ]
    }
   ],
   "source": [
    "## Iterate over values\n",
    "for value in student.values():\n",
    "    print(value)"
   ]
  },
  {
   "cell_type": "code",
   "execution_count": 29,
   "metadata": {},
   "outputs": [
    {
     "name": "stdout",
     "output_type": "stream",
     "text": [
      "name:KRish3\n",
      "age:33\n",
      "address:India\n"
     ]
    }
   ],
   "source": [
    "## Iterate over key value pairs\n",
    "for key,value in student.items():\n",
    "    print(f\"{key}:{value}\")"
   ]
  },
  {
   "cell_type": "markdown",
   "metadata": {
    "vscode": {
     "languageId": "raw"
    }
   },
   "source": [
    "**Working with Nested Dictionaries:**\n",
    "\n",
    "**1. Accessing Nested Values:**\n",
    "```python\n",
    "# Chain square brackets for deep access\n",
    "value = nested_dict[outer_key][inner_key]\n",
    "\n",
    "# Safe access with get()\n",
    "value = nested_dict.get(outer_key, {}).get(inner_key, default)\n",
    "```\n",
    "\n",
    "**2. Modifying Nested Values:**\n",
    "```python\n",
    "# Direct assignment\n",
    "nested_dict[outer_key][inner_key] = new_value\n",
    "\n",
    "# Adding new nested structures\n",
    "nested_dict[new_key] = {\"inner_key\": \"value\"}\n",
    "```\n",
    "\n",
    "**3. Iterating Over Nested Dictionaries:**\n",
    "- Use nested loops for multi-level iteration\n",
    "- Recursive functions for unknown depth levels\n",
    "- Consider flattening for simpler processing\n",
    "\n",
    "**Real-world Applications:**\n",
    "- **Configuration files:** Settings with categories and subcategories\n",
    "- **User profiles:** Personal info, preferences, permissions\n",
    "- **Database records:** Related data grouped logically\n",
    "- **JSON data:** API responses and web data\n",
    "- **Game states:** Player stats, inventory, achievements\n",
    "\n",
    "**Best Practices:**\n",
    "- Keep nesting levels reasonable (2-3 levels max)\n",
    "- Use meaningful key names at all levels\n",
    "- Consider using classes for complex nested structures\n",
    "- Validate structure before deep access\n"
   ]
  },
  {
   "cell_type": "markdown",
   "metadata": {
    "vscode": {
     "languageId": "raw"
    }
   },
   "source": [
    "##### 8. Dictionary Comprehensions\n",
    "\n",
    "Dictionary comprehensions provide a concise way to create dictionaries:\n"
   ]
  },
  {
   "cell_type": "code",
   "execution_count": 30,
   "metadata": {},
   "outputs": [
    {
     "name": "stdout",
     "output_type": "stream",
     "text": [
      "{'student1': {'name': 'Krish', 'age': 32}, 'student2': {'name': 'Peter', 'age': 35}}\n"
     ]
    }
   ],
   "source": [
    "## Nested Disctionaries\n",
    "students={\n",
    "    \"student1\":{\"name\":\"Krish\",\"age\":32},\n",
    "    \"student2\":{\"name\":\"Peter\",\"age\":35}\n",
    "}\n",
    "print(students)"
   ]
  },
  {
   "cell_type": "code",
   "execution_count": 31,
   "metadata": {},
   "outputs": [
    {
     "name": "stdout",
     "output_type": "stream",
     "text": [
      "Peter\n",
      "35\n"
     ]
    }
   ],
   "source": [
    "## Access nested dictionaries elementss\n",
    "print(students[\"student2\"][\"name\"])\n",
    "print(students[\"student2\"][\"age\"])"
   ]
  },
  {
   "cell_type": "markdown",
   "metadata": {
    "vscode": {
     "languageId": "raw"
    }
   },
   "source": [
    "**Dictionary Comprehension Syntax:**\n",
    "\n",
    "**Basic Syntax:**\n",
    "```python\n",
    "{key_expression: value_expression for item in iterable}\n",
    "```\n",
    "\n",
    "**With Condition:**\n",
    "```python\n",
    "{key_expression: value_expression for item in iterable if condition}\n",
    "```\n",
    "\n",
    "**Common Patterns:**\n",
    "\n",
    "**1. Transform Data:**\n",
    "```python\n",
    "# Square numbers\n",
    "squares = {x: x**2 for x in range(5)}\n",
    "\n",
    "# String manipulation\n",
    "upper_dict = {k: v.upper() for k, v in original_dict.items()}\n",
    "```\n",
    "\n",
    "**2. Filter Data:**\n",
    "```python\n",
    "# Filter even numbers\n",
    "evens = {x: x**2 for x in range(10) if x % 2 == 0}\n",
    "\n",
    "# Filter by value\n",
    "filtered = {k: v for k, v in data.items() if v > threshold}\n",
    "```\n",
    "\n",
    "**3. Combine Data Sources:**\n",
    "```python\n",
    "# Zip two lists\n",
    "combined = {k: v for k, v in zip(keys, values)}\n",
    "```\n",
    "\n",
    "**Performance Benefits:**\n",
    "- **Faster** than equivalent for loops\n",
    "- **More readable** for simple transformations\n",
    "- **Memory efficient** - creates dictionary directly\n",
    "- **Pythonic** - preferred style in Python community\n",
    "\n",
    "**When to Use:**\n",
    "- ✅ Simple transformations and filtering\n",
    "- ✅ Creating lookup tables\n",
    "- ✅ Data preprocessing\n",
    "- ❌ Complex logic (use regular loops instead)\n",
    "- ❌ Multiple operations per item\n"
   ]
  },
  {
   "cell_type": "markdown",
   "metadata": {
    "vscode": {
     "languageId": "raw"
    }
   },
   "source": [
    "##### 9. Practical Examples and Real-world Applications\n",
    "\n",
    "Let's explore common practical uses of dictionaries:\n"
   ]
  },
  {
   "cell_type": "code",
   "execution_count": 32,
   "metadata": {},
   "outputs": [
    {
     "data": {
      "text/plain": [
       "dict_items([('student1', {'name': 'Krish', 'age': 32}), ('student2', {'name': 'Peter', 'age': 35})])"
      ]
     },
     "execution_count": 32,
     "metadata": {},
     "output_type": "execute_result"
    }
   ],
   "source": [
    "students.items()"
   ]
  },
  {
   "cell_type": "code",
   "execution_count": 34,
   "metadata": {},
   "outputs": [
    {
     "name": "stdout",
     "output_type": "stream",
     "text": [
      "student1:{'name': 'Krish', 'age': 32}\n",
      "name:Krish\n",
      "age:32\n",
      "student2:{'name': 'Peter', 'age': 35}\n",
      "name:Peter\n",
      "age:35\n"
     ]
    }
   ],
   "source": [
    "## Iterating over nested dictionaries\n",
    "for student_id,student_info in students.items():\n",
    "    print(f\"{student_id}:{student_info}\")\n",
    "    for key,value in student_info.items():\n",
    "        print(f\"{key}:{value}\")\n"
   ]
  },
  {
   "cell_type": "code",
   "execution_count": 35,
   "metadata": {},
   "outputs": [
    {
     "name": "stdout",
     "output_type": "stream",
     "text": [
      "{0: 0, 1: 1, 2: 4, 3: 9, 4: 16}\n"
     ]
    }
   ],
   "source": [
    "## Dictionary Comphrehension\n",
    "squares={x:x**2 for x in range(5)}\n",
    "print(squares)"
   ]
  },
  {
   "cell_type": "markdown",
   "metadata": {
    "vscode": {
     "languageId": "raw"
    }
   },
   "source": [
    "**Common Dictionary Applications:**\n",
    "\n",
    "**1. Frequency Counting:**\n",
    "- Count occurrences of elements in datasets\n",
    "- Text analysis and word frequency\n",
    "- Statistical analysis of categorical data\n",
    "\n",
    "**2. Caching and Memoization:**\n",
    "- Store computed results for faster retrieval\n",
    "- Avoid expensive recalculations\n",
    "- Implement LRU (Least Recently Used) caches\n",
    "\n",
    "**3. Data Mapping and Transformation:**\n",
    "- Map old values to new values\n",
    "- Create lookup tables for data conversion\n",
    "- Store configuration mappings\n",
    "\n",
    "**4. Grouping and Categorization:**\n",
    "- Group items by common attributes\n",
    "- Organize data into categories\n",
    "- Create hierarchical data structures\n",
    "\n",
    "**5. Database-like Operations:**\n",
    "- Store records with unique identifiers\n",
    "- Implement simple in-memory databases\n",
    "- Create indexes for fast lookups\n",
    "\n",
    "**6. Configuration Management:**\n",
    "- Store application settings\n",
    "- Manage environment-specific configurations\n",
    "- Handle user preferences\n",
    "\n",
    "**Advanced Techniques:**\n",
    "```python\n",
    "# Using defaultdict for automatic initialization\n",
    "from collections import defaultdict\n",
    "groups = defaultdict(list)\n",
    "\n",
    "# Using Counter for frequency counting\n",
    "from collections import Counter\n",
    "frequencies = Counter(data_list)\n",
    "\n",
    "# Merging dictionaries (Python 3.9+)\n",
    "merged = dict1 | dict2\n",
    "```\n"
   ]
  },
  {
   "cell_type": "code",
   "execution_count": 36,
   "metadata": {},
   "outputs": [
    {
     "name": "stdout",
     "output_type": "stream",
     "text": [
      "{0: 0, 2: 4, 4: 16, 6: 36, 8: 64}\n"
     ]
    }
   ],
   "source": [
    "## Condition dictionary comprehension\n",
    "evens={x:x**2 for x in range(10) if x%2==0}\n",
    "print(evens)"
   ]
  },
  {
   "cell_type": "code",
   "execution_count": 37,
   "metadata": {},
   "outputs": [
    {
     "name": "stdout",
     "output_type": "stream",
     "text": [
      "{1: 1, 2: 2, 3: 3, 4: 4}\n"
     ]
    }
   ],
   "source": [
    "## Practical Examples\n",
    "\n",
    "## USe a dictionary to count he frequency of elements in list\n",
    "\n",
    "numbers=[1,2,2,3,3,3,4,4,4,4]\n",
    "frequency={}\n",
    "\n",
    "for number in numbers:\n",
    "    if number in frequency:\n",
    "        frequency[number]+=1\n",
    "    else:\n",
    "        frequency[number]=1\n",
    "print(frequency)\n"
   ]
  },
  {
   "cell_type": "code",
   "execution_count": 38,
   "metadata": {},
   "outputs": [
    {
     "name": "stdout",
     "output_type": "stream",
     "text": [
      "{'a': 1, 'b': 3, 'c': 4}\n"
     ]
    }
   ],
   "source": [
    "## Merge 2 dictionaries into one\n",
    "\n",
    "dict1={\"a\":1,\"b\":2}\n",
    "dict2={\"b\":3,\"c\":4}\n",
    "merged_dict={**dict1,**dict2}\n",
    "print(merged_dict)"
   ]
  },
  {
   "cell_type": "markdown",
   "metadata": {},
   "source": [
    "#### Conclusion\n",
    "Dictionaries are powerful tools in Python for managing key-value pairs. They are used in a variety of real-world scenarios, such as counting word frequency, grouping data, storing configuration settings, managing phonebooks, tracking inventory, and caching results. Understanding how to leverage dictionaries effectively can greatly enhance the efficiency and readability of your code."
   ]
  },
  {
   "cell_type": "code",
   "execution_count": null,
   "metadata": {},
   "outputs": [],
   "source": []
  }
 ],
 "metadata": {
  "kernelspec": {
   "display_name": "Python 3",
   "language": "python",
   "name": "python3"
  },
  "language_info": {
   "codemirror_mode": {
    "name": "ipython",
    "version": 3
   },
   "file_extension": ".py",
   "mimetype": "text/x-python",
   "name": "python",
   "nbconvert_exporter": "python",
   "pygments_lexer": "ipython3",
   "version": "3.12.0"
  }
 },
 "nbformat": 4,
 "nbformat_minor": 2
}
