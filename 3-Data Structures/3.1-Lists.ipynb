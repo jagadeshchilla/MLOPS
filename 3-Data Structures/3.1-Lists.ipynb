{
 "cells": [
  {
   "cell_type": "markdown",
   "metadata": {},
   "source": [
    "#### Introduction To Lists\n",
    "- Lists are ordered, mutable collections of items.\n",
    "- They can contain items of different data types."
   ]
  },
  {
   "cell_type": "markdown",
   "metadata": {},
   "source": [
    "##### Outline:\n",
    "1. Introduction to Lists\n",
    "2. Creating Lists\n",
    "3. Accessing List Elements\n",
    "4. Modifying List Elements\n",
    "5. List Methods\n",
    "6. Slicing Lists\n",
    "7. Iterating Over Lists\n",
    "8. List Comprehensions\n",
    "9. Nested Lists\n",
    "10. Practical Examples and Common Errors"
   ]
  },
  {
   "cell_type": "markdown",
   "metadata": {},
   "source": [
    "### Creating Lists\n",
    "\n",
    "Lists in Python are versatile data structures that can store multiple items in a single variable. Let's start by creating different types of lists.\n",
    "\n",
    "#### Empty List Creation\n"
   ]
  },
  {
   "cell_type": "code",
   "execution_count": 145,
   "metadata": {},
   "outputs": [
    {
     "name": "stdout",
     "output_type": "stream",
     "text": [
      "<class 'list'>\n"
     ]
    }
   ],
   "source": [
    "lst=[]\n",
    "print(type(lst))"
   ]
  },
  {
   "cell_type": "markdown",
   "metadata": {},
   "source": [
    "**Explanation:**\n",
    "- `lst = []` creates an empty list using square brackets\n",
    "- `type(lst)` confirms it's a list object\n",
    "- Empty lists are useful as starting points for dynamic data collection\n",
    "\n",
    "#### Creating Lists with Mixed Data Types\n"
   ]
  },
  {
   "cell_type": "code",
   "execution_count": 146,
   "metadata": {},
   "outputs": [
    {
     "name": "stdout",
     "output_type": "stream",
     "text": [
      "['jagadesh', 'Jack', 'Jacob', 1, 2, 3, 4, 5]\n"
     ]
    }
   ],
   "source": [
    "names=[\"jagadesh\",\"Jack\",\"Jacob\",1,2,3,4,5]\n",
    "print(names)"
   ]
  },
  {
   "cell_type": "markdown",
   "metadata": {},
   "source": [
    "**Key Features of Lists:**\n",
    "- **Heterogeneous:** Can contain different data types (strings, integers, etc.)\n",
    "- **Ordered:** Items maintain their position and can be accessed by index\n",
    "- **Mutable:** Can be modified after creation (add, remove, change items)\n",
    "\n",
    "#### Mixed Data Type Example"
   ]
  },
  {
   "cell_type": "code",
   "execution_count": 147,
   "metadata": {},
   "outputs": [
    {
     "name": "stdout",
     "output_type": "stream",
     "text": [
      "[1, 'Hello', 3.14, True]\n"
     ]
    }
   ],
   "source": [
    "mixed_list=[1,\"Hello\",3.14,True]\n",
    "print(mixed_list)"
   ]
  },
  {
   "cell_type": "markdown",
   "metadata": {},
   "source": [
    "**Data Type Diversity:**\n",
    "- `1` - Integer\n",
    "- `\"Hello\"` - String  \n",
    "- `3.14` - Float\n",
    "- `True` - Boolean\n",
    "\n",
    "This demonstrates Python's flexibility in storing different data types within a single list.\n",
    "\n",
    "---\n",
    "\n",
    "### Accessing List Elements\n",
    "\n",
    "Lists use **zero-based indexing**, meaning the first element is at index 0.\n"
   ]
  },
  {
   "cell_type": "code",
   "execution_count": 148,
   "metadata": {},
   "outputs": [],
   "source": [
    "### Accessing List Elements\n",
    "\n",
    "fruits=[\"apple\",\"banana\",\"cherry\",\"kiwi\",\"gauva\"]"
   ]
  },
  {
   "cell_type": "markdown",
   "metadata": {},
   "source": [
    "**Index Access Examples:**\n",
    "- `fruits[0]` → \"apple\" (first element)\n",
    "- `fruits[2]` → \"cherry\" (third element)\n",
    "- `fruits[4]` → \"gauva\" (fifth element)\n",
    "- `fruits[-1]` → \"gauva\" (last element using negative indexing)\n",
    "\n",
    "**Negative Indexing:**\n",
    "- `-1` refers to the last element\n",
    "- `-2` refers to the second-to-last element\n",
    "- Useful for accessing elements from the end without knowing the exact length\n",
    "\n"
   ]
  },
  {
   "cell_type": "code",
   "execution_count": 149,
   "metadata": {},
   "outputs": [
    {
     "name": "stdout",
     "output_type": "stream",
     "text": [
      "apple\n",
      "cherry\n",
      "gauva\n",
      "gauva\n"
     ]
    }
   ],
   "source": [
    "print(fruits[0])\n",
    "print(fruits[2])\n",
    "print(fruits[4])\n",
    "print(fruits[-1])"
   ]
  },
  {
   "cell_type": "markdown",
   "metadata": {},
   "source": [
    "#### List Slicing\n",
    "\n",
    "**Slicing Syntax:** `list[start:end:step]`\n",
    "\n",
    "**Examples:**\n",
    "- `fruits[1:]` → Gets all elements from index 1 to the end\n",
    "- `fruits[1:3]` → Gets elements from index 1 to 2 (excludes index 3)\n",
    "\n",
    "**Key Points:**\n",
    "- **Start** is inclusive\n",
    "- **End** is exclusive\n",
    "- If start is omitted, it defaults to 0\n",
    "- If end is omitted, it goes to the end of the list\n"
   ]
  },
  {
   "cell_type": "code",
   "execution_count": 150,
   "metadata": {},
   "outputs": [
    {
     "name": "stdout",
     "output_type": "stream",
     "text": [
      "['banana', 'cherry', 'kiwi', 'gauva']\n",
      "['banana', 'cherry']\n"
     ]
    }
   ],
   "source": [
    "print(fruits[1:])\n",
    "print(fruits[1:3])"
   ]
  },
  {
   "cell_type": "markdown",
   "metadata": {},
   "source": [
    "---\n",
    "\n",
    "### Modifying List Elements\n",
    "\n",
    "Lists are **mutable**, meaning you can change their contents after creation.\n"
   ]
  },
  {
   "cell_type": "code",
   "execution_count": 151,
   "metadata": {},
   "outputs": [
    {
     "data": {
      "text/plain": [
       "['apple', 'banana', 'cherry', 'kiwi', 'gauva']"
      ]
     },
     "execution_count": 151,
     "metadata": {},
     "output_type": "execute_result"
    }
   ],
   "source": [
    "## Modifying The List elements\n",
    "fruits"
   ]
  },
  {
   "cell_type": "code",
   "execution_count": 152,
   "metadata": {},
   "outputs": [
    {
     "name": "stdout",
     "output_type": "stream",
     "text": [
      "['apple', 'watermelon', 'cherry', 'kiwi', 'gauva']\n"
     ]
    }
   ],
   "source": [
    "fruits[1]=\"watermelon\"\n",
    "print(fruits)"
   ]
  },
  {
   "cell_type": "markdown",
   "metadata": {},
   "source": [
    "**Single Element Modification:**\n",
    "- `fruits[1] = \"watermelon\"` replaces the element at index 1\n",
    "- Original: `[\"apple\", \"banana\", \"cherry\", \"kiwi\", \"gauva\"]`\n",
    "- Modified: `[\"apple\", \"watermelon\", \"cherry\", \"kiwi\", \"gauva\"]`\n",
    "\n",
    "**Important:** Direct assignment to a single index replaces that specific element.\n"
   ]
  },
  {
   "cell_type": "markdown",
   "metadata": {},
   "source": [
    "\n",
    "**Slice Assignment Behavior:**\n",
    "- `fruits[1:] = \"watermelon\"` assigns each character of the string to individual list elements\n",
    "- **Result:** `['apple', 'w', 'a', 't', 'e', 'r', 'm', 'e', 'l', 'o', 'n']`\n",
    "\n",
    "**Why this happens:**\n",
    "- When you assign a string to a slice, Python iterates over each character\n",
    "- Each character becomes a separate list element\n",
    "- This is different from assigning to a single index\n",
    "\n",
    "**To assign a single string to multiple positions:**\n",
    "```python\n",
    "fruits[1:] = [\"watermelon\"]  # Use a list with one element\n",
    "```\n"
   ]
  },
  {
   "cell_type": "code",
   "execution_count": 153,
   "metadata": {},
   "outputs": [],
   "source": [
    "fruits[1:]=\"watermelon\""
   ]
  },
  {
   "cell_type": "markdown",
   "metadata": {},
   "source": [
    "---\n",
    "\n",
    "### List Methods\n",
    "\n",
    "Python provides many built-in methods to manipulate lists efficiently.\n",
    "\n",
    "#### Adding Elements\n"
   ]
  },
  {
   "cell_type": "code",
   "execution_count": 154,
   "metadata": {},
   "outputs": [
    {
     "data": {
      "text/plain": [
       "['apple', 'w', 'a', 't', 'e', 'r', 'm', 'e', 'l', 'o', 'n']"
      ]
     },
     "execution_count": 154,
     "metadata": {},
     "output_type": "execute_result"
    }
   ],
   "source": [
    "fruits"
   ]
  },
  {
   "cell_type": "code",
   "execution_count": 155,
   "metadata": {},
   "outputs": [],
   "source": [
    "fruits=[\"apple\",\"banana\",\"cherry\",\"kiwi\",\"gauva\"]"
   ]
  },
  {
   "cell_type": "markdown",
   "metadata": {},
   "source": [
    "**`append()` Method:**\n",
    "- Adds a single element to the **end** of the list\n",
    "- **Syntax:** `list.append(item)`\n",
    "- **In-place operation:** Modifies the original list\n",
    "- **Returns:** None (modifies the list directly)\n",
    "\n",
    "**Use Case:** When you want to add one item at the end of a list\n"
   ]
  },
  {
   "cell_type": "code",
   "execution_count": 156,
   "metadata": {},
   "outputs": [
    {
     "name": "stdout",
     "output_type": "stream",
     "text": [
      "['apple', 'banana', 'cherry', 'kiwi', 'gauva', 'orange']\n"
     ]
    }
   ],
   "source": [
    "## List Methods\n",
    "\n",
    "fruits.append(\"orange\") ## Add an item to the end\n",
    "print(fruits)"
   ]
  },
  {
   "cell_type": "markdown",
   "metadata": {},
   "source": [
    "**`insert()` Method:**\n",
    "- Adds an element at a **specific position**\n",
    "- **Syntax:** `list.insert(index, item)`\n",
    "- **Parameters:**\n",
    "  - `index`: Position where to insert the item\n",
    "  - `item`: The element to insert\n",
    "- **Behavior:** Shifts existing elements to the right\n",
    "\n",
    "**Example:** `fruits.insert(1, \"watermelon\")` inserts \"watermelon\" at index 1\n"
   ]
  },
  {
   "cell_type": "code",
   "execution_count": 157,
   "metadata": {},
   "outputs": [
    {
     "name": "stdout",
     "output_type": "stream",
     "text": [
      "['apple', 'watermelon', 'banana', 'cherry', 'kiwi', 'gauva', 'orange']\n"
     ]
    }
   ],
   "source": [
    "fruits.insert(1,\"watermelon\")\n",
    "print(fruits)"
   ]
  },
  {
   "cell_type": "markdown",
   "metadata": {},
   "source": [
    "#### Removing Elements\n",
    "\n",
    "**`remove()` Method:**\n",
    "- Removes the **first occurrence** of a specified value\n",
    "- **Syntax:** `list.remove(value)`\n",
    "- **Important:** Raises `ValueError` if the item is not found\n",
    "- **Only removes one occurrence** even if the item appears multiple times\n"
   ]
  },
  {
   "cell_type": "code",
   "execution_count": 158,
   "metadata": {},
   "outputs": [
    {
     "name": "stdout",
     "output_type": "stream",
     "text": [
      "['apple', 'watermelon', 'cherry', 'kiwi', 'gauva', 'orange']\n"
     ]
    }
   ],
   "source": [
    "fruits.remove(\"banana\") ## Removing the first occurance of an item\n",
    "print(fruits)"
   ]
  },
  {
   "cell_type": "markdown",
   "metadata": {},
   "source": [
    "**`pop()` Method:**\n",
    "- Removes and **returns** an element from the list\n",
    "- **Default behavior:** Removes the last element\n",
    "- **With index:** `list.pop(index)` removes element at specific position\n",
    "- **Returns:** The removed element (can be stored in a variable)\n",
    "\n",
    "**Key Difference from `remove()`:**\n",
    "- `pop()` removes by **position** and returns the value\n",
    "- `remove()` removes by **value** and returns None"
   ]
  },
  {
   "cell_type": "code",
   "execution_count": 159,
   "metadata": {},
   "outputs": [
    {
     "name": "stdout",
     "output_type": "stream",
     "text": [
      "orange\n",
      "['apple', 'watermelon', 'cherry', 'kiwi', 'gauva']\n"
     ]
    }
   ],
   "source": [
    "## Remove and return the last element\n",
    "popped_fruits=fruits.pop()\n",
    "print(popped_fruits)\n",
    "print(fruits)"
   ]
  },
  {
   "cell_type": "markdown",
   "metadata": {},
   "source": [
    "#### Search and Information Methods\n",
    "\n",
    "**`index()` Method:**\n",
    "- Returns the **index** of the first occurrence of a value\n",
    "- **Syntax:** `list.index(value)`\n",
    "- **Returns:** Integer index of the item\n",
    "- **Raises:** `ValueError` if the item is not found\n",
    "\n",
    "**Example:** `fruits.index(\"cherry\")` returns `3` if \"cherry\" is at index 3\n"
   ]
  },
  {
   "cell_type": "code",
   "execution_count": 160,
   "metadata": {},
   "outputs": [
    {
     "name": "stdout",
     "output_type": "stream",
     "text": [
      "2\n"
     ]
    }
   ],
   "source": [
    "index=fruits.index(\"cherry\")\n",
    "print(index)"
   ]
  },
  {
   "cell_type": "markdown",
   "metadata": {},
   "source": [
    "**`count()` Method:**\n",
    "- Returns the **number of times** a value appears in the list\n",
    "- **Syntax:** `list.count(value)`\n",
    "- **Returns:** Integer count (0 if item not found)\n",
    "- **Use Case:** Finding duplicates or frequency of elements\n",
    "\n",
    "**Example:** If \"banana\" appears twice, `fruits.count(\"banana\")` returns `2`\n"
   ]
  },
  {
   "cell_type": "code",
   "execution_count": 161,
   "metadata": {},
   "outputs": [
    {
     "name": "stdout",
     "output_type": "stream",
     "text": [
      "1\n"
     ]
    }
   ],
   "source": [
    "fruits.insert(2,\"banana\")\n",
    "print(fruits.count(\"banana\"))"
   ]
  },
  {
   "cell_type": "markdown",
   "metadata": {},
   "source": [
    "#### Sorting and Organizing Methods\n",
    "\n",
    "**`sort()` Method:**\n",
    "- Sorts the list **in-place** in ascending order\n",
    "- **Syntax:** `list.sort()`\n",
    "- **Optional parameters:**\n",
    "  - `reverse=True` for descending order\n",
    "  - `key=function` for custom sorting logic\n",
    "- **Modifies:** The original list\n",
    "- **Returns:** None\n",
    "\n",
    "**Important:** Only works with comparable data types (all strings or all numbers)\n"
   ]
  },
  {
   "cell_type": "code",
   "execution_count": 162,
   "metadata": {},
   "outputs": [],
   "source": [
    "fruits.sort() ## SSorts the list in ascending order"
   ]
  },
  {
   "cell_type": "markdown",
   "metadata": {},
   "source": [
    "**`reverse()` Method:**\n",
    "- Reverses the order of elements **in-place**\n",
    "- **Syntax:** `list.reverse()`\n",
    "- **Does not sort:** Simply reverses the current order\n",
    "- **Modifies:** The original list\n",
    "- **Returns:** None\n",
    "\n",
    "**Use Case:** When you need the list in opposite order without sorting\n"
   ]
  },
  {
   "cell_type": "code",
   "execution_count": 163,
   "metadata": {},
   "outputs": [
    {
     "data": {
      "text/plain": [
       "['apple', 'banana', 'cherry', 'gauva', 'kiwi', 'watermelon']"
      ]
     },
     "execution_count": 163,
     "metadata": {},
     "output_type": "execute_result"
    }
   ],
   "source": [
    "fruits"
   ]
  },
  {
   "cell_type": "code",
   "execution_count": 164,
   "metadata": {},
   "outputs": [],
   "source": [
    "fruits.reverse() ## REverse the list"
   ]
  },
  {
   "cell_type": "code",
   "execution_count": 165,
   "metadata": {},
   "outputs": [
    {
     "name": "stdout",
     "output_type": "stream",
     "text": [
      "[]\n"
     ]
    }
   ],
   "source": [
    "\n",
    "fruits.clear() ## Remove all items from the list\n",
    "\n",
    "print(fruits)"
   ]
  },
  {
   "cell_type": "markdown",
   "metadata": {},
   "source": [
    "**`clear()` Method:**\n",
    "- Removes **all elements** from the list\n",
    "- **Syntax:** `list.clear()`\n",
    "- **Result:** Empty list `[]`\n",
    "- **Equivalent to:** `del list[:]` or `list[:] = []`\n",
    "\n",
    "**Use Case:** When you need to empty a list but keep the list object\n",
    "\n",
    "---\n",
    "\n",
    "### Advanced List Slicing\n"
   ]
  },
  {
   "cell_type": "code",
   "execution_count": 166,
   "metadata": {},
   "outputs": [
    {
     "name": "stdout",
     "output_type": "stream",
     "text": [
      "[3, 4, 5]\n",
      "[1, 2, 3, 4, 5]\n",
      "[6, 7, 8, 9, 10]\n",
      "[1, 3, 5, 7, 9]\n",
      "[10, 9, 8, 7, 6, 5, 4, 3, 2, 1]\n"
     ]
    }
   ],
   "source": [
    "## Slicing List\n",
    "numbers = [1, 2, 3, 4, 5, 6, 7, 8, 9, 10]\n",
    "print(numbers[2:5])\n",
    "print(numbers[:5])\n",
    "print(numbers[5:])\n",
    "print(numbers[::2])\n",
    "print(numbers[::-1])"
   ]
  },
  {
   "cell_type": "code",
   "execution_count": 167,
   "metadata": {},
   "outputs": [
    {
     "data": {
      "text/plain": [
       "[1, 4, 7, 10]"
      ]
     },
     "execution_count": 167,
     "metadata": {},
     "output_type": "execute_result"
    }
   ],
   "source": [
    "numbers[::3]\n"
   ]
  },
  {
   "cell_type": "code",
   "execution_count": 168,
   "metadata": {},
   "outputs": [
    {
     "data": {
      "text/plain": [
       "[10, 8, 6, 4, 2]"
      ]
     },
     "execution_count": 168,
     "metadata": {},
     "output_type": "execute_result"
    }
   ],
   "source": [
    "numbers[::-2]"
   ]
  },
  {
   "cell_type": "markdown",
   "metadata": {
    "vscode": {
     "languageId": "raw"
    }
   },
   "source": [
    "**Slicing Examples Explained:**\n",
    "\n",
    "**Basic Slicing:**\n",
    "- `numbers[2:5]` → `[3, 4, 5]` (elements from index 2 to 4)\n",
    "- `numbers[:5]` → `[1, 2, 3, 4, 5]` (from start to index 4)\n",
    "- `numbers[5:]` → `[6, 7, 8, 9, 10]` (from index 5 to end)\n",
    "\n",
    "**Step Slicing:**\n",
    "- `numbers[::2]` → `[1, 3, 5, 7, 9]` (every 2nd element)\n",
    "- `numbers[::-1]` → `[10, 9, 8, 7, 6, 5, 4, 3, 2, 1]` (reverse order)\n",
    "\n",
    "**Advanced Step Patterns:**\n",
    "- `numbers[::3]` → `[1, 4, 7, 10]` (every 3rd element)\n",
    "- `numbers[::-2]` → `[10, 8, 6, 4, 2]` (every 2nd element in reverse)\n"
   ]
  },
  {
   "cell_type": "markdown",
   "metadata": {
    "vscode": {
     "languageId": "raw"
    }
   },
   "source": [
    "---\n",
    "\n",
    "### Iterating Over Lists\n",
    "\n",
    "#### Basic Iteration\n",
    "\n",
    "**Simple for loop:**\n",
    "- Iterates through each element directly\n",
    "- **Syntax:** `for item in list:`\n",
    "- **Use case:** When you only need the values, not the indices\n"
   ]
  },
  {
   "cell_type": "code",
   "execution_count": 169,
   "metadata": {},
   "outputs": [
    {
     "name": "stdout",
     "output_type": "stream",
     "text": [
      "1\n",
      "2\n",
      "3\n",
      "4\n",
      "5\n",
      "6\n",
      "7\n",
      "8\n",
      "9\n",
      "10\n"
     ]
    }
   ],
   "source": [
    "### Iterating Over List\n",
    "\n",
    "for number in numbers:\n",
    "    print(number)"
   ]
  },
  {
   "cell_type": "markdown",
   "metadata": {
    "vscode": {
     "languageId": "raw"
    }
   },
   "source": [
    "#### Iteration with Index\n",
    "\n",
    "**`enumerate()` Function:**\n",
    "- Returns both **index** and **value** for each element\n",
    "- **Syntax:** `for index, value in enumerate(list):`\n",
    "- **Benefits:**\n",
    "  - Access to both position and value\n",
    "  - Cleaner than using `range(len(list))`\n",
    "  - More Pythonic approach\n",
    "\n",
    "**Use Cases:**\n",
    "- When you need to know the position of each element\n",
    "- Modifying elements based on their position\n",
    "- Creating numbered lists\n"
   ]
  },
  {
   "cell_type": "code",
   "execution_count": 170,
   "metadata": {},
   "outputs": [
    {
     "name": "stdout",
     "output_type": "stream",
     "text": [
      "0 1\n",
      "1 2\n",
      "2 3\n",
      "3 4\n",
      "4 5\n",
      "5 6\n",
      "6 7\n",
      "7 8\n",
      "8 9\n",
      "9 10\n"
     ]
    }
   ],
   "source": [
    "## Iterating with index\n",
    "for index,number in enumerate(numbers):\n",
    "    print(index,number)"
   ]
  },
  {
   "cell_type": "markdown",
   "metadata": {
    "vscode": {
     "languageId": "raw"
    }
   },
   "source": [
    "---\n",
    "\n",
    "### List Comprehensions\n",
    "\n",
    "List comprehensions provide a concise way to create lists based on existing iterables.\n",
    "\n",
    "#### Traditional Approach vs List Comprehension\n"
   ]
  },
  {
   "cell_type": "code",
   "execution_count": 171,
   "metadata": {},
   "outputs": [
    {
     "name": "stdout",
     "output_type": "stream",
     "text": [
      "[0, 1, 4, 9, 16, 25, 36, 49, 64, 81]\n"
     ]
    },
    {
     "data": {
      "text/plain": [
       "[0, 1, 4, 9, 16, 25, 36, 49, 64, 81]"
      ]
     },
     "execution_count": 171,
     "metadata": {},
     "output_type": "execute_result"
    }
   ],
   "source": [
    "## List comprehension\n",
    "lst=[]\n",
    "for x in range(10):\n",
    "    lst.append(x**2)\n",
    "\n",
    "print(lst)\n",
    "[x**2 for x in range(10)]"
   ]
  },
  {
   "cell_type": "markdown",
   "metadata": {
    "vscode": {
     "languageId": "raw"
    }
   },
   "source": [
    "**Traditional Approach:**\n",
    "```python\n",
    "lst = []\n",
    "for x in range(10):\n",
    "    lst.append(x**2)\n",
    "```\n",
    "\n",
    "**List Comprehension:**\n",
    "```python\n",
    "[x**2 for x in range(10)]\n",
    "```\n",
    "\n",
    "**Advantages of List Comprehensions:**\n",
    "- **More concise:** Single line instead of multiple\n",
    "- **More readable:** Expresses intent clearly\n",
    "- **Often faster:** Optimized at the C level\n",
    "- **More Pythonic:** Preferred Python style\n"
   ]
  },
  {
   "cell_type": "markdown",
   "metadata": {
    "vscode": {
     "languageId": "raw"
    }
   },
   "source": [
    "#### Basic List Comprehension Syntax\n",
    "\n",
    "**Pattern:** `[expression for item in iterable]`\n",
    "\n",
    "**Example:** `[num**2 for num in range(10)]`\n",
    "- **`num**2`** - Expression (what to do with each item)\n",
    "- **`for num in range(10)`** - Iteration (where to get items from)\n",
    "\n",
    "**Result:** `[0, 1, 4, 9, 16, 25, 36, 49, 64, 81]`\n"
   ]
  },
  {
   "cell_type": "code",
   "execution_count": 172,
   "metadata": {},
   "outputs": [
    {
     "name": "stdout",
     "output_type": "stream",
     "text": [
      "[0, 1, 4, 9, 16, 25, 36, 49, 64, 81]\n"
     ]
    }
   ],
   "source": [
    "\n",
    "### Basic List Comphrension\n",
    "\n",
    "sqaure=[num**2 for num in range(10)]\n",
    "print(sqaure)"
   ]
  },
  {
   "cell_type": "markdown",
   "metadata": {},
   "source": [
    "#### List Comprehension with Conditions\n",
    "\n",
    "**Traditional Approach:**\n",
    "```python\n",
    "lst = []\n",
    "for i in range(10):\n",
    "    if i % 2 == 0:\n",
    "        lst.append(i)\n",
    "```\n",
    "\n",
    "**List Comprehension with Condition:**\n",
    "```python\n",
    "[num for num in range(10) if num % 2 == 0]\n",
    "```\n",
    "\n",
    "**Pattern:** `[expression for item in iterable if condition]`\n",
    "\n",
    "**How it works:**\n",
    "1. Iterate through each number in range(10)\n",
    "2. Check if the condition `num % 2 == 0` is True\n",
    "3. If True, include the number in the result list\n",
    "4. If False, skip the number\n"
   ]
  },
  {
   "cell_type": "code",
   "execution_count": 173,
   "metadata": {},
   "outputs": [
    {
     "name": "stdout",
     "output_type": "stream",
     "text": [
      "[0, 2, 4, 6, 8]\n"
     ]
    }
   ],
   "source": [
    "### List Comprehension with Condition\n",
    "lst=[]\n",
    "for i in range(10):\n",
    "    if i%2==0:\n",
    "        lst.append(i)\n",
    "\n",
    "print(lst)\n",
    "        "
   ]
  },
  {
   "cell_type": "code",
   "execution_count": 174,
   "metadata": {},
   "outputs": [
    {
     "name": "stdout",
     "output_type": "stream",
     "text": [
      "[0, 2, 4, 6, 8]\n"
     ]
    }
   ],
   "source": [
    "even_numbers=[num for num in range(10) if num%2==0]\n",
    "print(even_numbers)"
   ]
  },
  {
   "cell_type": "markdown",
   "metadata": {},
   "source": [
    "#### Nested List Comprehensions\n",
    "\n",
    "**Creating Pairs/Combinations:**\n",
    "\n",
    "**Pattern:** `[expression for item1 in iterable1 for item2 in iterable2]`\n",
    "\n",
    "**Example:**\n",
    "```python\n",
    "lst1 = [1, 2, 3, 4]\n",
    "lst2 = ['a', 'b', 'c', 'd']\n",
    "pairs = [[i, j] for i in lst1 for j in lst2]\n",
    "```\n",
    "\n",
    "**How it works:**\n",
    "1. **Outer loop:** `for i in lst1` - iterates through [1, 2, 3, 4]\n",
    "2. **Inner loop:** `for j in lst2` - for each i, iterates through ['a', 'b', 'c', 'd']\n",
    "3. **Expression:** `[i, j]` - creates a pair for each combination\n",
    "\n",
    "**Result:** `[[1, 'a'], [1, 'b'], [1, 'c'], [1, 'd'], [2, 'a'], ...]`\n",
    "\n",
    "**Total combinations:** 4 × 4 = 16 pairs\n"
   ]
  },
  {
   "cell_type": "code",
   "execution_count": 175,
   "metadata": {},
   "outputs": [
    {
     "name": "stdout",
     "output_type": "stream",
     "text": [
      "[[1, 'a'], [1, 'b'], [1, 'c'], [1, 'd'], [2, 'a'], [2, 'b'], [2, 'c'], [2, 'd'], [3, 'a'], [3, 'b'], [3, 'c'], [3, 'd'], [4, 'a'], [4, 'b'], [4, 'c'], [4, 'd']]\n"
     ]
    }
   ],
   "source": [
    "## Nested List Comphrension\n",
    "\n",
    "lst1=[1,2,3,4]\n",
    "lst2=['a','b','c','d']\n",
    "\n",
    "pair=[[i,j] for i in lst1 for j in lst2]\n",
    "\n",
    "print(pair)\n"
   ]
  },
  {
   "cell_type": "markdown",
   "metadata": {},
   "source": [
    "#### List Comprehension with Function Calls\n",
    "\n",
    "**Applying Functions to Elements:**\n",
    "\n",
    "**Example:** `[len(word) for word in words]`\n",
    "\n",
    "**How it works:**\n",
    "1. **Iterate:** Through each word in the words list\n",
    "2. **Apply function:** `len()` to get the length of each word\n",
    "3. **Collect results:** Create a new list with the lengths\n",
    "\n",
    "**Input:** `[\"hello\", \"world\", \"python\", \"list\", \"comprehension\"]`\n",
    "**Output:** `[5, 5, 6, 4, 13]`\n",
    "\n",
    "**Use Cases:**\n",
    "- Applying mathematical functions\n",
    "- String transformations (upper, lower, strip)\n",
    "- Custom function applications\n",
    "- Data processing and transformation\n"
   ]
  },
  {
   "cell_type": "code",
   "execution_count": 176,
   "metadata": {},
   "outputs": [
    {
     "name": "stdout",
     "output_type": "stream",
     "text": [
      "[5, 5, 6, 4, 13]\n"
     ]
    }
   ],
   "source": [
    "## List Comprehension with function calls\n",
    "words = [\"hello\", \"world\", \"python\", \"list\", \"comprehension\"]\n",
    "lengths = [len(word) for word in words]\n",
    "print(lengths)  # Output: [5, 5, 6, 4, 13]\n",
    "\n"
   ]
  },
  {
   "cell_type": "markdown",
   "metadata": {},
   "source": [
    "---\n",
    "\n",
    "### Summary: List Comprehensions\n",
    "\n",
    "**Key Benefits:**\n",
    "1. **Conciseness:** Reduce multiple lines to a single expression\n",
    "2. **Readability:** Clear intent and logic flow\n",
    "3. **Performance:** Often faster than equivalent loops\n",
    "4. **Pythonic:** Preferred style in Python community\n",
    "\n",
    "**When to Use:**\n",
    "- **Simple transformations:** Applying operations to each element\n",
    "- **Filtering:** Selecting elements based on conditions\n",
    "- **Combinations:** Creating pairs or combinations from multiple lists\n",
    "- **Function applications:** Applying functions to collections\n",
    "\n",
    "**When to Avoid:**\n",
    "- **Complex logic:** When the comprehension becomes hard to read\n",
    "- **Side effects:** When you need to perform actions beyond creating a list\n",
    "- **Nested complexity:** When nesting makes code unclear\n",
    "\n",
    "**Best Practice:** If a list comprehension spans multiple lines or becomes difficult to understand, use a regular loop instead.\n"
   ]
  },
  {
   "cell_type": "code",
   "execution_count": null,
   "metadata": {},
   "outputs": [],
   "source": []
  }
 ],
 "metadata": {
  "kernelspec": {
   "display_name": "Python 3",
   "language": "python",
   "name": "python3"
  },
  "language_info": {
   "codemirror_mode": {
    "name": "ipython",
    "version": 3
   },
   "file_extension": ".py",
   "mimetype": "text/x-python",
   "name": "python",
   "nbconvert_exporter": "python",
   "pygments_lexer": "ipython3",
   "version": "3.13.3"
  }
 },
 "nbformat": 4,
 "nbformat_minor": 2
}
