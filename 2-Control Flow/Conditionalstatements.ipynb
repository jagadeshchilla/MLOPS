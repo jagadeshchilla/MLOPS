{
 "cells": [
  {
   "cell_type": "markdown",
   "metadata": {},
   "source": [
    "#### Conditional Statements (if, elif, else)\n",
    "Outline:\n",
    "1. Introduction to Conditional Statements\n",
    "2. if Statement\n",
    "3. else Statement\n",
    "4. elif Statement\n",
    "5. Nested Conditional Statements\n",
    "6. Practical Examples\n",
    "7. Common Errors and Best Practices"
   ]
  },
  {
   "cell_type": "markdown",
   "metadata": {},
   "source": [
    "#### Basic if Statement\n",
    "\n",
    "The `if` statement is the most fundamental conditional statement in Python. It executes a block of code only if the specified condition evaluates to `True`.\n",
    "\n",
    "**Syntax:**\n",
    "```python\n",
    "if condition:\n",
    "    # code to execute if condition is True\n",
    "```\n",
    "\n",
    "Let's see a simple example where we check if a person is eligible to vote:\n"
   ]
  },
  {
   "cell_type": "code",
   "execution_count": 1,
   "metadata": {},
   "outputs": [
    {
     "name": "stdout",
     "output_type": "stream",
     "text": [
      "You are allowed to vote in the elections\n"
     ]
    }
   ],
   "source": [
    "## if statement\n",
    "age=20\n",
    "\n",
    "if age>=18:\n",
    "    print(\"You are allowed to vote in the elections\")"
   ]
  },
  {
   "cell_type": "markdown",
   "metadata": {},
   "source": [
    "**Explanation:**\n",
    "- We set `age = 20`\n",
    "- The condition `age >= 18` evaluates to `True` (since 20 is greater than or equal to 18)\n",
    "- Therefore, the print statement inside the if block executes\n",
    "- The comparison `age >= 18` returns a boolean value (`True` or `False`)\n"
   ]
  },
  {
   "cell_type": "code",
   "execution_count": 2,
   "metadata": {},
   "outputs": [
    {
     "data": {
      "text/plain": [
       "True"
      ]
     },
     "execution_count": 2,
     "metadata": {},
     "output_type": "execute_result"
    }
   ],
   "source": [
    "age>=18"
   ]
  },
  {
   "cell_type": "markdown",
   "metadata": {},
   "source": [
    "#### if-else Statement\n",
    "\n",
    "The `else` statement provides an alternative block of code that executes when the `if` condition is `False`. This creates a binary decision structure.\n",
    "\n",
    "**Syntax:**\n",
    "```python\n",
    "if condition:\n",
    "    # code to execute if condition is True\n",
    "else:\n",
    "    # code to execute if condition is False\n",
    "```\n"
   ]
  },
  {
   "cell_type": "code",
   "execution_count": 3,
   "metadata": {},
   "outputs": [
    {
     "name": "stdout",
     "output_type": "stream",
     "text": [
      "You are a minor\n"
     ]
    }
   ],
   "source": [
    "## else\n",
    "## The else statement executes a block of code if the condition in the if statement is False.\n",
    "\n",
    "age=16\n",
    "\n",
    "if age>=18:\n",
    "    print(\"You are eligible for voting\")\n",
    "else:\n",
    "    print(\"You are a minor\")\n",
    "\n"
   ]
  },
  {
   "cell_type": "markdown",
   "metadata": {},
   "source": [
    "**Explanation:**\n",
    "- We set `age = 16`\n",
    "- The condition `age >= 18` evaluates to `False` (since 16 is less than 18)\n",
    "- Since the condition is `False`, the code jumps to the `else` block\n",
    "- The `else` block executes, printing \"You are a minor\"\n",
    "- This ensures that exactly one of the two blocks will always execute\n"
   ]
  },
  {
   "cell_type": "markdown",
   "metadata": {},
   "source": [
    "#### if-elif-else Statement\n",
    "\n",
    "The `elif` (short for \"else if\") statement allows you to check multiple conditions in sequence. It's useful when you have more than two possible outcomes.\n",
    "\n",
    "**Syntax:**\n",
    "```python\n",
    "if condition1:\n",
    "    # code for condition1\n",
    "elif condition2:\n",
    "    # code for condition2\n",
    "elif condition3:\n",
    "    # code for condition3\n",
    "else:\n",
    "    # code if none of the above conditions are True\n",
    "```\n",
    "\n",
    "**How it works:**\n",
    "- Python checks conditions from top to bottom\n",
    "- The first `True` condition executes its block and stops checking\n",
    "- If no conditions are `True`, the `else` block executes (if present)\n"
   ]
  },
  {
   "cell_type": "code",
   "execution_count": 4,
   "metadata": {},
   "outputs": [
    {
     "name": "stdout",
     "output_type": "stream",
     "text": [
      "You are a teenager\n"
     ]
    }
   ],
   "source": [
    "## elif\n",
    "## The elif statement allows you to check multiple conditions. It stands for \"else if\"\n",
    "\n",
    "age=17\n",
    "\n",
    "if age<13:\n",
    "    print(\"You are a child\")\n",
    "elif age<18:\n",
    "    print(\"You are a teenager\")\n",
    "else:\n",
    "    print(\"You are an adult\")"
   ]
  },
  {
   "cell_type": "markdown",
   "metadata": {},
   "source": [
    "**Explanation:**\n",
    "- We set `age = 17`\n",
    "- First condition: `age < 13` → `17 < 13` → `False` (skip this block)\n",
    "- Second condition: `age < 18` → `17 < 18` → `True` (execute this block)\n",
    "- Since the second condition is `True`, \"You are a teenager\" is printed\n",
    "- The `else` block is skipped because a condition was already satisfied\n",
    "- This creates three distinct age categories: child (< 13), teenager (13-17), adult (≥ 18)\n"
   ]
  },
  {
   "cell_type": "markdown",
   "metadata": {},
   "source": [
    "#### Nested Conditional Statements\n",
    "\n",
    "Nested conditionals allow you to place one conditional statement inside another. This is useful for complex decision-making that requires multiple levels of conditions.\n",
    "\n",
    "**Key Points:**\n",
    "- Inner conditionals only execute if the outer condition is `True`\n",
    "- Proper indentation is crucial for nested structures\n",
    "- Each level of nesting adds another level of indentation (4 spaces recommended)\n",
    "\n",
    "**Example: Checking if a number is positive and then determining if it's even or odd**\n"
   ]
  },
  {
   "cell_type": "code",
   "execution_count": 5,
   "metadata": {},
   "outputs": [
    {
     "name": "stdout",
     "output_type": "stream",
     "text": [
      "The number is positive\n",
      "The number is even\n"
     ]
    }
   ],
   "source": [
    "## Nested Condiitonal Statements\n",
    "\n",
    "# You can place one or more if, elif, or else statements inside another if, elif, or else statement to create nested conditional statements.\n",
    "\n",
    "## number even ,odd,negative\n",
    "\n",
    "num=int(input(\"Enter the number\"))\n",
    "\n",
    "if num>0:\n",
    "    print(\"The number is positive\")\n",
    "    if num%2==0:\n",
    "        print(\"The number is even\")\n",
    "    else:\n",
    "        print(\"The number is odd\")\n",
    "\n",
    "else:\n",
    "    print(\"The number is zero or negative\")"
   ]
  },
  {
   "cell_type": "markdown",
   "metadata": {},
   "source": [
    "**Explanation:**\n",
    "- **Outer condition:** `num > 0` - checks if the number is positive\n",
    "- **If positive:** The program enters the nested structure\n",
    "  - **Inner condition:** `num % 2 == 0` - checks if the number is even (remainder is 0 when divided by 2)\n",
    "  - **If even:** prints \"The number is even\"\n",
    "  - **If odd:** prints \"The number is odd\"\n",
    "- **If not positive:** prints \"The number is zero or negative\"\n",
    "\n",
    "**Flow:**\n",
    "1. First, check if number is positive\n",
    "2. Only if positive, then check if even or odd\n",
    "3. If not positive, skip the even/odd check entirely\n"
   ]
  },
  {
   "cell_type": "markdown",
   "metadata": {},
   "source": [
    "#### Complex Nested Example: Leap Year Calculation\n",
    "\n",
    "A leap year occurs every 4 years, but there are exceptions:\n",
    "- **Rule 1:** If divisible by 4 → potentially a leap year\n",
    "- **Rule 2:** If divisible by 100 → NOT a leap year (exception to rule 1)\n",
    "- **Rule 3:** If divisible by 400 → IS a leap year (exception to rule 2)\n",
    "\n",
    "**Examples:**\n",
    "- 2000: Divisible by 400 → Leap year\n",
    "- 1900: Divisible by 100 but not 400 → Not a leap year  \n",
    "- 2004: Divisible by 4 but not 100 → Leap year\n",
    "- 2001: Not divisible by 4 → Not a leap year\n"
   ]
  },
  {
   "cell_type": "code",
   "execution_count": 6,
   "metadata": {},
   "outputs": [
    {
     "name": "stdout",
     "output_type": "stream",
     "text": [
      "2025 is not a leap year\n"
     ]
    }
   ],
   "source": [
    "## Practical Examples\n",
    "\n",
    "## Determine if a year is a leap year using nested condition statement\n",
    "\n",
    "year=int(input(\"Enter the year\"))\n",
    "\n",
    "if year%4==0:\n",
    "    if year%100==0:\n",
    "        if year%400==0:\n",
    "            print(year,\"is a leap year\")\n",
    "        else:\n",
    "            print(year,\"is not a leap year\")\n",
    "    else:\n",
    "        print(year,\"is a leap year\")\n",
    "\n",
    "else:\n",
    "    print(year,\"is not a leap year\")\n",
    "\n",
    "\n"
   ]
  },
  {
   "cell_type": "markdown",
   "metadata": {},
   "source": [
    "**Explanation of the Nested Logic:**\n",
    "\n",
    "1. **Level 1:** `if year % 4 == 0` - Check if divisible by 4\n",
    "2. **Level 2:** `if year % 100 == 0` - If divisible by 4, check if also divisible by 100\n",
    "3. **Level 3:** `if year % 400 == 0` - If divisible by 100, check if also divisible by 400\n",
    "\n",
    "**Decision Tree:**\n",
    "- **Not divisible by 4** → Not a leap year\n",
    "- **Divisible by 4, not by 100** → Leap year\n",
    "- **Divisible by 100, not by 400** → Not a leap year  \n",
    "- **Divisible by 400** → Leap year\n",
    "\n",
    "This nested structure ensures all leap year rules are properly applied in the correct order.\n"
   ]
  },
  {
   "cell_type": "markdown",
   "metadata": {},
   "source": [
    "#### Practical Example 1: Simple Calculator\n",
    "\n",
    "This calculator demonstrates multiple `elif` statements to handle different operations. It also includes error handling for division by zero.\n",
    "\n",
    "**Features:**\n",
    "- Supports four basic operations: +, -, *, /\n",
    "- Handles division by zero error\n",
    "- Validates operation input\n"
   ]
  },
  {
   "cell_type": "code",
   "execution_count": 7,
   "metadata": {},
   "outputs": [
    {
     "name": "stdout",
     "output_type": "stream",
     "text": [
      "Result: 10.0\n"
     ]
    }
   ],
   "source": [
    "## Assignment\n",
    "## Simple Calculator program\n",
    "# Take user input\n",
    "num1 = float(input(\"Enter first number: \"))\n",
    "num2 = float(input(\"Enter second number: \"))\n",
    "operation = input(\"Enter operation (+, -, *, /): \")\n",
    "\n",
    "# Perform the requested operation\n",
    "if operation == '+':\n",
    "    result = num1 + num2\n",
    "elif operation == '-':\n",
    "    result = num1 - num2\n",
    "elif operation == '*':\n",
    "    result = num1 * num2\n",
    "elif operation == '/':\n",
    "    if num2 != 0:\n",
    "        result = num1 / num2\n",
    "    else:\n",
    "        result = \"Error! Division by zero.\"\n",
    "else:\n",
    "    result = \"Invalid operation.\"\n",
    "\n",
    "print(\"Result:\", result)"
   ]
  },
  {
   "cell_type": "markdown",
   "metadata": {},
   "source": [
    "**Code Breakdown:**\n",
    "- **Input:** Gets two numbers and an operation symbol from user\n",
    "- **Operation Logic:** Uses `elif` chain to match the operation\n",
    "- **Error Handling:** \n",
    "  - Nested `if` inside division to check for zero\n",
    "  - Final `else` catches invalid operations\n",
    "- **Output:** Displays the result or appropriate error message\n",
    "\n",
    "**Key Concepts Demonstrated:**\n",
    "- Multiple `elif` statements for different cases\n",
    "- Nested conditional for error checking\n",
    "- Input validation and error handling\n"
   ]
  },
  {
   "cell_type": "markdown",
   "metadata": {},
   "source": [
    "#### Practical Example 2: Dynamic Ticket Pricing System\n",
    "\n",
    "This example demonstrates complex nested conditionals for a real-world scenario: determining ticket prices based on multiple factors.\n",
    "\n",
    "**Pricing Rules:**\n",
    "- **Under 5:** Free admission\n",
    "- **Ages 5-12:** $10 (child rate)\n",
    "- **Ages 13-17:** $15 regular, $12 if student\n",
    "- **Ages 18-64:** $25 regular, $18 if student  \n",
    "- **Over 64:** $20 (senior rate)\n"
   ]
  },
  {
   "cell_type": "code",
   "execution_count": 8,
   "metadata": {},
   "outputs": [
    {
     "name": "stdout",
     "output_type": "stream",
     "text": [
      "Ticket Price: $18\n"
     ]
    }
   ],
   "source": [
    "### Determine the ticket price based on age and whether the person is a student.\n",
    "# Ticket pricing based on age and student status\n",
    "\n",
    "# Take user input\n",
    "age = int(input(\"Enter your age: \"))\n",
    "is_student = input(\"Are you a student? (yes/no): \").lower()\n",
    "\n",
    "# Determine ticket price\n",
    "if age < 5:\n",
    "    price = \"Free\"\n",
    "elif age <= 12:\n",
    "    price = \"$10\"\n",
    "elif age <= 17:\n",
    "    if is_student == 'yes':\n",
    "        price = \"$12\"\n",
    "    else:\n",
    "        price = \"$15\"\n",
    "elif age <= 64:\n",
    "    if is_student == 'yes':\n",
    "        price = \"$18\"\n",
    "    else:\n",
    "        price = \"$25\"\n",
    "else:\n",
    "    price = \"$20\"\n",
    "\n",
    "print(\"Ticket Price:\", price)\n",
    "\n"
   ]
  },
  {
   "cell_type": "markdown",
   "metadata": {},
   "source": [
    "**Code Structure Analysis:**\n",
    "- **Primary conditions:** Age ranges using `if`/`elif` chain\n",
    "- **Secondary conditions:** Student status checked with nested `if`/`else`\n",
    "- **Input processing:** `.lower()` method ensures case-insensitive comparison\n",
    "- **Logic flow:** Age determines the category, then student status modifies the price\n",
    "\n",
    "**Advanced Concepts:**\n",
    "- **Nested conditionals** within `elif` blocks\n",
    "- **String method chaining** with `.lower()`\n",
    "- **Multi-factor decision making**\n",
    "- **Real-world business logic implementation**\n"
   ]
  },
  {
   "cell_type": "markdown",
   "metadata": {},
   "source": [
    "#### Complex Example 3: Employee Bonus Calculation\n",
    "\n",
    "Calculate an employee's bonus based on their performance rating and years of service."
   ]
  },
  {
   "cell_type": "code",
   "execution_count": 9,
   "metadata": {},
   "outputs": [
    {
     "name": "stdout",
     "output_type": "stream",
     "text": [
      "Bonus Amount: $0.00\n"
     ]
    }
   ],
   "source": [
    "# Employee bonus calculation\n",
    "\n",
    "# Take user input\n",
    "years_of_service = int(input(\"Enter years of service: \"))\n",
    "performance_rating = float(input(\"Enter performance rating (1.0 to 5.0): \"))\n",
    "\n",
    "# Determine bonus percentage\n",
    "if performance_rating >= 4.5:\n",
    "    if years_of_service > 10:\n",
    "        bonus_percentage = 20\n",
    "    elif years_of_service > 5:\n",
    "        bonus_percentage = 15\n",
    "    else:\n",
    "        bonus_percentage = 10\n",
    "elif performance_rating >= 3.5:\n",
    "    if years_of_service > 10:\n",
    "        bonus_percentage = 15\n",
    "    elif years_of_service > 5:\n",
    "        bonus_percentage = 10\n",
    "    else:\n",
    "        bonus_percentage = 5\n",
    "else:\n",
    "    bonus_percentage = 0\n",
    "\n",
    "# Calculate bonus amount\n",
    "salary = float(input(\"Enter current salary: \"))\n",
    "bonus_amount = salary * bonus_percentage / 100\n",
    "\n",
    "print(\"Bonus Amount: ${:.2f}\".format(bonus_amount))\n"
   ]
  },
  {
   "cell_type": "markdown",
   "metadata": {},
   "source": [
    "**Employee Bonus Calculation Logic:**\n",
    "\n",
    "This system uses **double-nested conditionals** to determine bonus percentages:\n",
    "\n",
    "**Performance Rating Tiers:**\n",
    "- **Excellent (≥4.5):** Highest bonus rates\n",
    "- **Good (3.5-4.49):** Moderate bonus rates  \n",
    "- **Below 3.5:** No bonus\n",
    "\n",
    "**Years of Service Multiplier:**\n",
    "- **Over 10 years:** Maximum bonus for performance tier\n",
    "- **5-10 years:** Mid-tier bonus\n",
    "- **Under 5 years:** Entry-level bonus\n",
    "\n",
    "**Nested Structure:**\n",
    "1. **Outer condition:** Performance rating determines the tier\n",
    "2. **Inner condition:** Years of service modifies the bonus within that tier\n",
    "3. **Calculation:** Final bonus = salary × bonus_percentage ÷ 100\n"
   ]
  },
  {
   "cell_type": "markdown",
   "metadata": {},
   "source": [
    "## Complex Example 4: User Login System\n",
    "A simple user login system that checks the username and password."
   ]
  },
  {
   "cell_type": "code",
   "execution_count": 10,
   "metadata": {},
   "outputs": [
    {
     "name": "stdout",
     "output_type": "stream",
     "text": [
      "Incorrect password.\n"
     ]
    }
   ],
   "source": [
    "# User login system\n",
    "\n",
    "# Predefined username and password\n",
    "stored_username = \"admin\"\n",
    "stored_password = \"password123\"\n",
    "\n",
    "# Take user input\n",
    "username = input(\"Enter username: \")\n",
    "password = input(\"Enter password: \")\n",
    "\n",
    "# Check login credentials\n",
    "if username == stored_username:\n",
    "    if password == stored_password:\n",
    "        print(\"Login successful!\")\n",
    "    else:\n",
    "        print(\"Incorrect password.\")\n",
    "else:\n",
    "    print(\"Username not found.\")\n"
   ]
  },
  {
   "cell_type": "markdown",
   "metadata": {},
   "source": [
    "#### Practical Example 4: User Authentication System\n",
    "\n",
    "This example demonstrates a simple but effective login system using nested conditionals for security validation.\n",
    "\n",
    "**Security Logic:**\n",
    "1. **First check:** Verify if username exists\n",
    "2. **Second check:** If username is valid, then verify password\n",
    "3. **Result:** Provide specific feedback for each failure type\n",
    "\n",
    "**Why This Structure?**\n",
    "- **Security:** Doesn't reveal whether username or password failed\n",
    "- **User Experience:** Provides clear feedback\n",
    "- **Efficiency:** Avoids checking password if username is wrong\n"
   ]
  },
  {
   "cell_type": "markdown",
   "metadata": {},
   "source": [
    "**Authentication Flow:**\n",
    "- **Step 1:** Check if entered username matches stored username\n",
    "- **Step 2:** If username matches, check if entered password matches stored password\n",
    "- **Step 3:** Provide appropriate success or failure message\n",
    "\n",
    "**Key Security Concepts:**\n",
    "- **Sequential validation:** Username first, then password\n",
    "- **Specific error messages:** Different messages for username vs password errors\n",
    "- **Nested structure:** Password check only happens if username is correct\n",
    "\n",
    "**Real-world Applications:**\n",
    "- Web application login systems\n",
    "- Desktop application authentication\n",
    "- API access control\n",
    "- Database user management\n",
    "\n",
    "---\n",
    "\n",
    "### Summary of Conditional Statements\n",
    "\n",
    "**What we learned:**\n",
    "1. **Basic if:** Execute code when condition is True\n",
    "2. **if-else:** Choose between two alternatives  \n",
    "3. **if-elif-else:** Handle multiple conditions\n",
    "4. **Nested conditionals:** Complex decision trees\n",
    "5. **Real-world applications:** Calculators, pricing systems, authentication\n",
    "\n"
   ]
  },
  {
   "cell_type": "raw",
   "metadata": {
    "vscode": {
     "languageId": "raw"
    }
   },
   "source": []
  }
 ],
 "metadata": {
  "kernelspec": {
   "display_name": "Python 3",
   "language": "python",
   "name": "python3"
  },
  "language_info": {
   "codemirror_mode": {
    "name": "ipython",
    "version": 3
   },
   "file_extension": ".py",
   "mimetype": "text/x-python",
   "name": "python",
   "nbconvert_exporter": "python",
   "pygments_lexer": "ipython3",
   "version": "3.13.3"
  }
 },
 "nbformat": 4,
 "nbformat_minor": 2
}
