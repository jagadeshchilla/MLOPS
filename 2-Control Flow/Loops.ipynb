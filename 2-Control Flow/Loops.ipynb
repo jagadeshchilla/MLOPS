{
 "cells": [
  {
   "cell_type": "markdown",
   "metadata": {},
   "source": [
    "#### Loops\n",
    "Outline:\n",
    "1. Introduction to Loops\n",
    "2. for Loop\n",
    "   - Iterating over a range\n",
    "   - Iterating over a string\n",
    "\n",
    "3. while Loop\n",
    "4. Loop Control Statements\n",
    "    - break\n",
    "    - continue\n",
    "    - pass\n",
    "5. Nested Loops\n",
    "6. Practical Examples and Common Errors"
   ]
  },
  {
   "cell_type": "markdown",
   "metadata": {},
   "source": [
    "#### Introduction to Loops\n",
    "\n",
    "Loops are fundamental programming constructs that allow you to execute a block of code repeatedly. They are essential for:\n",
    "- **Automation:** Performing repetitive tasks without writing duplicate code\n",
    "- **Data Processing:** Iterating through collections of data\n",
    "- **Mathematical Calculations:** Computing series, sums, and patterns\n",
    "- **User Interaction:** Repeatedly asking for input until valid data is received\n",
    "\n",
    "Python provides two main types of loops:\n",
    "1. **for loop:** Used when you know the number of iterations or need to iterate over a sequence\n",
    "2. **while loop:** Used when you need to repeat code based on a condition\n",
    "\n",
    "---\n",
    "\n",
    "### Understanding the `range()` Function\n",
    "\n",
    "Before diving into for loops, let's understand the `range()` function, which is commonly used with for loops.\n"
   ]
  },
  {
   "cell_type": "code",
   "execution_count": 1,
   "metadata": {},
   "outputs": [
    {
     "data": {
      "text/plain": [
       "range(0, 5)"
      ]
     },
     "execution_count": 1,
     "metadata": {},
     "output_type": "execute_result"
    }
   ],
   "source": [
    "range(5)"
   ]
  },
  {
   "cell_type": "markdown",
   "metadata": {},
   "source": [
    "**What is `range()`?**\n",
    "- `range()` generates a sequence of numbers\n",
    "- It returns a range object (not a list)\n",
    "- To see the actual numbers, we need to iterate over it or convert it to a list\n",
    "\n",
    "**Basic Syntax:**\n",
    "- `range(stop)` - generates numbers from 0 to stop-1\n",
    "- `range(start, stop)` - generates numbers from start to stop-1  \n",
    "- `range(start, stop, step)` - generates numbers from start to stop-1 with given step\n",
    "\n",
    "---\n",
    "\n",
    "### Basic for Loop with range()\n"
   ]
  },
  {
   "cell_type": "code",
   "execution_count": 2,
   "metadata": {},
   "outputs": [
    {
     "name": "stdout",
     "output_type": "stream",
     "text": [
      "0\n",
      "1\n",
      "2\n",
      "3\n",
      "4\n"
     ]
    }
   ],
   "source": [
    "## for loop\n",
    "\n",
    "for i in range(5):\n",
    "    print(i)"
   ]
  },
  {
   "cell_type": "markdown",
   "metadata": {},
   "source": [
    "**Explanation:**\n",
    "- `range(5)` generates numbers: 0, 1, 2, 3, 4 (5 numbers starting from 0)\n",
    "- The for loop iterates through each number in the range\n",
    "- Variable `i` takes each value in sequence\n",
    "- The loop body executes 5 times\n",
    "\n",
    "**Key Points:**\n",
    "- `range(n)` always starts from 0\n",
    "- It includes 0 but excludes n\n",
    "- Total iterations = n"
   ]
  },
  {
   "cell_type": "raw",
   "metadata": {
    "vscode": {
     "languageId": "raw"
    }
   },
   "source": [
    "#### for Loop with Custom Start and Stop\n"
   ]
  },
  {
   "cell_type": "code",
   "execution_count": 3,
   "metadata": {},
   "outputs": [
    {
     "name": "stdout",
     "output_type": "stream",
     "text": [
      "1\n",
      "2\n",
      "3\n",
      "4\n",
      "5\n"
     ]
    }
   ],
   "source": [
    "for i in range(1,6):\n",
    "    print(i)"
   ]
  },
  {
   "cell_type": "markdown",
   "metadata": {},
   "source": [
    "**Explanation:**\n",
    "- `range(1, 6)` generates numbers: 1, 2, 3, 4, 5\n",
    "- **Start:** 1 (inclusive)\n",
    "- **Stop:** 6 (exclusive)\n",
    "- **Result:** Numbers from 1 to 5\n",
    "\n",
    "**Pattern:** `range(start, stop)` includes start but excludes stop\n"
   ]
  },
  {
   "cell_type": "raw",
   "metadata": {
    "vscode": {
     "languageId": "raw"
    }
   },
   "source": [
    "#### for Loop with Step Parameter\n"
   ]
  },
  {
   "cell_type": "code",
   "execution_count": 7,
   "metadata": {},
   "outputs": [
    {
     "name": "stdout",
     "output_type": "stream",
     "text": [
      "1\n",
      "3\n",
      "5\n",
      "7\n",
      "9\n"
     ]
    }
   ],
   "source": [
    "for i in range(1,10,2):\n",
    "    print(i)"
   ]
  },
  {
   "cell_type": "markdown",
   "metadata": {},
   "source": [
    "**Explanation:**\n",
    "- `range(1, 10, 2)` generates: 1, 3, 5, 7, 9\n",
    "- **Start:** 1\n",
    "- **Stop:** 10 (exclusive)\n",
    "- **Step:** 2 (increment by 2 each time)\n",
    "- **Result:** All odd numbers from 1 to 9\n",
    "\n",
    "**Use Cases:**\n",
    "- Generating even/odd numbers\n",
    "- Skipping elements in a sequence\n",
    "- Creating arithmetic progressions\n"
   ]
  },
  {
   "cell_type": "raw",
   "metadata": {
    "vscode": {
     "languageId": "raw"
    }
   },
   "source": [
    "#### Reverse Iteration with Negative Step\n"
   ]
  },
  {
   "cell_type": "code",
   "execution_count": 8,
   "metadata": {},
   "outputs": [
    {
     "name": "stdout",
     "output_type": "stream",
     "text": [
      "10\n",
      "9\n",
      "8\n",
      "7\n",
      "6\n",
      "5\n",
      "4\n",
      "3\n",
      "2\n"
     ]
    }
   ],
   "source": [
    "for i in range(10,1,-1):\n",
    "    print(i)"
   ]
  },
  {
   "cell_type": "markdown",
   "metadata": {},
   "source": []
  },
  {
   "cell_type": "markdown",
   "metadata": {},
   "source": [
    "**Explanation:**\n",
    "- `range(10, 1, -1)` generates: 10, 9, 8, 7, 6, 5, 4, 3, 2\n",
    "- **Start:** 10\n",
    "- **Stop:** 1 (exclusive, so stops at 2)\n",
    "- **Step:** -1 (decrements by 1)\n",
    "- **Result:** Countdown from 10 to 2\n",
    "\n",
    "**Important:** When using negative step, start must be greater than stop\n"
   ]
  },
  {
   "cell_type": "raw",
   "metadata": {
    "vscode": {
     "languageId": "raw"
    }
   },
   "source": [
    "#### Reverse with Larger Step\n"
   ]
  },
  {
   "cell_type": "code",
   "execution_count": 9,
   "metadata": {},
   "outputs": [
    {
     "name": "stdout",
     "output_type": "stream",
     "text": [
      "10\n",
      "8\n",
      "6\n",
      "4\n",
      "2\n"
     ]
    }
   ],
   "source": [
    "for i in range(10,1,-2):\n",
    "    print(i)"
   ]
  },
  {
   "cell_type": "markdown",
   "metadata": {},
   "source": [
    "**Explanation:**\n",
    "- `range(10, 1, -2)` generates: 10, 8, 6, 4, 2\n",
    "- **Start:** 10\n",
    "- **Stop:** 1 (exclusive)\n",
    "- **Step:** -2 (decrements by 2)\n",
    "- **Result:** Even numbers from 10 down to 2\n",
    "\n",
    "---\n",
    "\n",
    "### Iterating Over Strings\n"
   ]
  },
  {
   "cell_type": "code",
   "execution_count": 1,
   "metadata": {},
   "outputs": [
    {
     "name": "stdout",
     "output_type": "stream",
     "text": [
      "j\n",
      "a\n",
      "g\n",
      "a\n",
      "d\n",
      "e\n",
      "s\n",
      "h\n",
      " \n",
      "c\n",
      "h\n",
      "i\n",
      "l\n",
      "l\n",
      "a\n"
     ]
    }
   ],
   "source": [
    "## strings\n",
    "\n",
    "str=\"jagadesh chilla\"\n",
    "\n",
    "for i in str:\n",
    "    print(i)"
   ]
  },
  {
   "cell_type": "markdown",
   "metadata": {},
   "source": [
    "**String Iteration:**\n",
    "- Strings are **iterable** in Python\n",
    "- Each character (including spaces) is processed individually\n",
    "- The loop variable `i` takes each character in sequence\n",
    "\n",
    "**Character-by-Character Breakdown:**\n",
    "- 'j', 'a', 'g', 'a', 'd','e','s','h', ' ', 'c', 'h', 'i', 'l','l','a'\n",
    "- Notice that the space between \"Krish\" and \"Naik\" is also printed\n",
    "\n",
    "**Applications:**\n",
    "- Character counting\n",
    "- String validation\n",
    "- Text processing\n",
    "- Pattern matching\n",
    "\n",
    "---\n",
    "\n",
    "### while Loop\n"
   ]
  },
  {
   "cell_type": "markdown",
   "metadata": {},
   "source": [
    "**while Loop Characteristics:**\n",
    "- Executes as long as the condition is `True`\n",
    "- **Condition is checked before each iteration**\n",
    "- **Must manually update the loop variable** to avoid infinite loops\n",
    "- More flexible than for loops but requires careful management\n",
    "\n",
    "**Syntax:**\n",
    "```python\n",
    "while condition:\n",
    "    # code block\n",
    "    # update condition variable\n",
    "```\n"
   ]
  },
  {
   "cell_type": "code",
   "execution_count": 2,
   "metadata": {},
   "outputs": [
    {
     "name": "stdout",
     "output_type": "stream",
     "text": [
      "0\n",
      "1\n",
      "2\n",
      "3\n",
      "4\n"
     ]
    }
   ],
   "source": [
    "## while loop\n",
    "\n",
    "## The while loop continues to execute as long as the condition is True.\n",
    "\n",
    "count=0\n",
    "\n",
    "while count<5:\n",
    "    print(count)\n",
    "    count=count+1\n",
    "\n",
    "\n"
   ]
  },
  {
   "cell_type": "markdown",
   "metadata": {},
   "source": [
    "**Step-by-Step Execution:**\n",
    "1. **Initialize:** `count = 0`\n",
    "2. **Check condition:** `count < 5` → `0 < 5` → `True`\n",
    "3. **Execute:** Print 0, then `count = count + 1` → `count = 1`\n",
    "4. **Check condition:** `count < 5` → `1 < 5` → `True`\n",
    "5. **Execute:** Print 1, then `count = count + 1` → `count = 2`\n",
    "6. **Continue** until `count = 5`\n",
    "7. **Check condition:** `count < 5` → `5 < 5` → `False`\n",
    "8. **Exit loop**\n",
    "\n",
    "**Critical Elements:**\n",
    "- **Initialization:** Set starting value before loop\n",
    "- **Condition:** Boolean expression that controls loop execution\n",
    "- **Update:** Modify condition variable inside loop (prevents infinite loop)\n",
    "\n",
    "---\n",
    "\n",
    "### Loop Control Statements\n"
   ]
  },
  {
   "cell_type": "markdown",
   "metadata": {},
   "source": [
    "\n",
    "Loop control statements modify the normal flow of loop execution:\n",
    "\n",
    "1. **break:** Completely exits the loop\n",
    "2. **continue:** Skips current iteration, moves to next\n",
    "3. **pass:** Does nothing (placeholder)\n",
    "\n",
    "#### The `break` Statement\n",
    "\n",
    "The `break` statement immediately terminates the loop and transfers control to the statement after the loop.\n"
   ]
  },
  {
   "cell_type": "code",
   "execution_count": 14,
   "metadata": {},
   "outputs": [
    {
     "name": "stdout",
     "output_type": "stream",
     "text": [
      "0\n",
      "1\n",
      "2\n",
      "3\n",
      "4\n"
     ]
    }
   ],
   "source": [
    "## Loop Control Statements\n",
    "\n",
    "## break\n",
    "## The break statement exits the loop permaturely\n",
    "\n",
    "## break sstatement\n",
    "\n",
    "for i in range(10):\n",
    "    if i==5:\n",
    "        break\n",
    "    print(i)\n",
    "   "
   ]
  },
  {
   "cell_type": "markdown",
   "metadata": {},
   "source": [
    "**Execution Flow:**\n",
    "1. `i = 0`: Print 0\n",
    "2. `i = 1`: Print 1  \n",
    "3. `i = 2`: Print 2\n",
    "4. `i = 3`: Print 3\n",
    "5. `i = 4`: Print 4\n",
    "6. `i = 5`: Condition `i == 5` is `True` → Execute `break`\n",
    "7. **Loop terminates immediately** (6, 7, 8, 9 are never printed)\n",
    "\n",
    "**Use Cases:**\n",
    "- Early termination based on conditions\n",
    "- Finding first occurrence of something\n",
    "- Error handling in loops\n",
    "- User input validation\n",
    "\n",
    "#### The `continue` Statement\n"
   ]
  },
  {
   "cell_type": "code",
   "execution_count": 15,
   "metadata": {},
   "outputs": [
    {
     "name": "stdout",
     "output_type": "stream",
     "text": [
      "1\n",
      "3\n",
      "5\n",
      "7\n",
      "9\n"
     ]
    }
   ],
   "source": [
    "## continue\n",
    "\n",
    "## The continue statement skips the current iteration and continues with the next.\n",
    "\n",
    "for i in range(10):\n",
    "    if i%2==0:\n",
    "        continue\n",
    "    print(i)\n",
    "\n",
    "\n"
   ]
  },
  {
   "cell_type": "markdown",
   "metadata": {},
   "source": [
    "**Execution Flow:**\n",
    "1. `i = 0`: `0 % 2 == 0` → `True` → Execute `continue` → Skip print\n",
    "2. `i = 1`: `1 % 2 == 0` → `False` → Print 1\n",
    "3. `i = 2`: `2 % 2 == 0` → `True` → Execute `continue` → Skip print\n",
    "4. `i = 3`: `3 % 2 == 0` → `False` → Print 3\n",
    "5. **Pattern continues** for all values\n",
    "\n",
    "**Result:** Only odd numbers are printed (1, 3, 5, 7, 9)\n",
    "\n",
    "**Key Points:**\n",
    "- `continue` skips the **remaining code in current iteration**\n",
    "- Loop continues with the **next iteration**\n",
    "- Useful for **filtering** or **conditional processing**\n",
    "\n",
    "#### The `pass` Statement\n"
   ]
  },
  {
   "cell_type": "code",
   "execution_count": 18,
   "metadata": {},
   "outputs": [
    {
     "name": "stdout",
     "output_type": "stream",
     "text": [
      "0\n",
      "1\n",
      "2\n",
      "3\n",
      "4\n"
     ]
    }
   ],
   "source": [
    "## pass\n",
    "## The pass statement is a null operation; it does nothing.\n",
    "\n",
    "for i in range(5):\n",
    "    if i==3:\n",
    "        pass\n",
    "    print(i)\n"
   ]
  },
  {
   "cell_type": "markdown",
   "metadata": {},
   "source": [
    "**What `pass` does:**\n",
    "- **Literally nothing** - it's a null operation\n",
    "- Acts as a **placeholder** where code is syntactically required\n",
    "- **Does not affect** loop execution flow\n",
    "\n",
    "**Execution Flow:**\n",
    "1. `i = 0, 1, 2`: Normal execution, print numbers\n",
    "2. `i = 3`: Condition `i == 3` is `True` → Execute `pass` → **Do nothing** → Continue to print 3\n",
    "3. `i = 4`: Normal execution, print 4\n",
    "\n",
    "**When to use `pass`:**\n",
    "- **Placeholder for future code:** When you need syntactically correct code but haven't implemented the logic yet\n",
    "- **Empty exception handlers:** When you want to ignore certain exceptions\n",
    "- **Abstract methods:** In class definitions for methods to be implemented later\n",
    "\n",
    "**Example use cases:**\n",
    "```python\n",
    "# Placeholder for future implementation\n",
    "if condition:\n",
    "    pass  # TODO: implement this later\n",
    "\n",
    "# Empty exception handler\n",
    "try:\n",
    "    risky_operation()\n",
    "except SpecificError:\n",
    "    pass  # Ignore this error\n",
    "```\n",
    "\n",
    "---\n",
    "\n",
    "### Nested Loops\n"
   ]
  },
  {
   "cell_type": "code",
   "execution_count": 19,
   "metadata": {},
   "outputs": [
    {
     "name": "stdout",
     "output_type": "stream",
     "text": [
      "i:0 and j:0\n",
      "i:0 and j:1\n",
      "i:1 and j:0\n",
      "i:1 and j:1\n",
      "i:2 and j:0\n",
      "i:2 and j:1\n"
     ]
    }
   ],
   "source": [
    "## Nested loopss\n",
    "## a loop inside a loop\n",
    "\n",
    "for i in range(3):\n",
    "    for j in range(2):\n",
    "        print(f\"i:{i} and j:{j}\")"
   ]
  },
  {
   "cell_type": "markdown",
   "metadata": {},
   "source": [
    "**Nested Loop Concept:**\n",
    "- A loop inside another loop\n",
    "- **Outer loop** controls the major iterations\n",
    "- **Inner loop** completes all its iterations for each outer loop iteration\n",
    "\n",
    "**Execution Pattern:**\n",
    "1. **Outer loop starts:** `i = 0`\n",
    "2. **Inner loop runs completely:** `j = 0, 1` (2 iterations)\n",
    "3. **Outer loop continues:** `i = 1`  \n",
    "4. **Inner loop runs completely again:** `j = 0, 1` (2 iterations)\n",
    "5. **Pattern repeats** until outer loop finishes\n",
    "\n",
    "**Total iterations:** Outer × Inner = 3 × 2 = 6 iterations\n"
   ]
  },
  {
   "cell_type": "markdown",
   "metadata": {},
   "source": [
    "#### Example 1: Sum of First N Natural Numbers (Using while loop)\n",
    "\n",
    "**Problem:** Calculate 1 + 2 + 3 + ... + N\n",
    "\n",
    "**Algorithm:**\n",
    "1. Initialize sum = 0 and counter = 1\n",
    "2. While counter ≤ N:\n",
    "   - Add counter to sum\n",
    "   - Increment counter\n",
    "3. Display result\n"
   ]
  },
  {
   "cell_type": "code",
   "execution_count": 20,
   "metadata": {},
   "outputs": [
    {
     "name": "stdout",
     "output_type": "stream",
     "text": [
      "Sum of first 10 natural number: 55\n"
     ]
    }
   ],
   "source": [
    "## Examples- Calculate the sum of first N natural numbers using a while and for loop\n",
    "\n",
    "## while loop  \n",
    "\n",
    "n=10   \n",
    "sum=0\n",
    "count=1\n",
    "\n",
    "while count<=n:\n",
    "    sum=sum+count\n",
    "    count=count+1\n",
    "\n",
    "print(\"Sum of first 10 natural number:\",sum)\n"
   ]
  },
  {
   "cell_type": "code",
   "execution_count": 21,
   "metadata": {},
   "outputs": [
    {
     "name": "stdout",
     "output_type": "stream",
     "text": [
      "55\n"
     ]
    }
   ],
   "source": [
    "n=10   \n",
    "sum=0\n",
    "for i in range(11):\n",
    "    sum=sum+i\n",
    "\n",
    "print(sum)"
   ]
  },
  {
   "cell_type": "markdown",
   "metadata": {},
   "source": [
    "**Step-by-Step Execution:**\n",
    "1. **Initialize:** `n=10`, `sum=0`, `count=1`\n",
    "2. **Iteration 1:** `count=1 ≤ 10` → `sum = 0+1 = 1`, `count = 2`\n",
    "3. **Iteration 2:** `count=2 ≤ 10` → `sum = 1+2 = 3`, `count = 3`\n",
    "4. **Continue...** until `count=10`\n",
    "5. **Iteration 10:** `count=10 ≤ 10` → `sum = 45+10 = 55`, `count = 11`\n",
    "6. **Check:** `count=11 ≤ 10` → `False` → Exit loop\n",
    "\n",
    "**Mathematical Verification:** Sum = n(n+1)/2 = 10(11)/2 = 55 ✓\n",
    "\n",
    "#### Example 1b: Same Problem Using for Loop"
   ]
  },
  {
   "cell_type": "code",
   "execution_count": 3,
   "metadata": {},
   "outputs": [
    {
     "name": "stdout",
     "output_type": "stream",
     "text": [
      "2\n",
      "3\n",
      "5\n",
      "7\n",
      "11\n",
      "13\n",
      "17\n",
      "19\n",
      "23\n",
      "29\n",
      "31\n",
      "37\n",
      "41\n",
      "43\n",
      "47\n",
      "53\n",
      "59\n",
      "61\n",
      "67\n",
      "71\n",
      "73\n",
      "79\n",
      "83\n",
      "89\n",
      "97\n"
     ]
    }
   ],
   "source": [
    "## Example- Prime numbers between 1 and 100\n",
    "\n",
    "for num in range(1,101):\n",
    "    if num>1:\n",
    "        for i in range(2,num):\n",
    "            if num%i==0:\n",
    "                break\n",
    "        else:\n",
    "            print(num)"
   ]
  },
  {
   "cell_type": "markdown",
   "metadata": {},
   "source": [
    "#### Conclusion:\n",
    "Loops are powerful constructs in Python that allow you to execute a block of code multiple times. By understanding and using for and while loops, along with loop control statements like break, continue, and pass, you can handle a wide range of programming tasks efficiently.\n",
    "\n",
    "**Comparison: while vs for Loop**\n",
    "\n",
    "| Aspect | while Loop | for Loop |\n",
    "|--------|------------|----------|\n",
    "| **Code Length** | More lines | Fewer lines |\n",
    "| **Variable Management** | Manual increment | Automatic |\n",
    "| **Error Prone** | Risk of infinite loop | Safer |\n",
    "| **Use Case** | Unknown iterations | Known iterations |\n",
    "| **Readability** | More verbose | More concise |\n",
    "\n",
    "**Key Insight:** `range(11)` generates 0 to 10, so we get the same sum of 55.\n",
    "\n",
    "#### Example 2: Prime Numbers Between 1 and 100\n",
    "\n",
    "**Prime Number Definition:** A number greater than 1 that has no positive divisors other than 1 and itself.\n",
    "\n",
    "**Algorithm Explanation:**\n",
    "1. **Outer loop:** Check each number from 1 to 100\n",
    "2. **Filter:** Only consider numbers > 1\n",
    "3. **Inner loop:** Test divisibility from 2 to (num-1)\n",
    "4. **Prime test:** If any divisor found → break (not prime)\n",
    "5. **else clause:** Executes only if inner loop completes without break → number is prime\n",
    "\n",
    "**Key Concepts:**\n",
    "- **Nested loops:** Outer for candidates, inner for divisibility testing\n",
    "- **Loop-else construct:** `else` after `for` loop executes only if loop wasn't broken\n",
    "- **Early termination:** `break` stops checking once a divisor is found\n",
    "\n",
    "**Detailed Example Trace (for num = 7):**\n",
    "1. **Outer loop:** `num = 7`\n",
    "2. **Condition:** `7 > 1` → `True`\n",
    "3. **Inner loop:** Test `i = 2, 3, 4, 5, 6`\n",
    "   - `7 % 2 = 1` (not 0) → continue\n",
    "   - `7 % 3 = 1` (not 0) → continue  \n",
    "   - `7 % 4 = 3` (not 0) → continue\n",
    "   - `7 % 5 = 2` (not 0) → continue\n",
    "   - `7 % 6 = 1` (not 0) → continue\n",
    "4. **Inner loop completes** without break\n",
    "5. **else clause executes** → Print 7\n",
    "\n",
    "**Advanced Optimization Ideas:**\n",
    "- Only check divisors up to √num (more efficient)\n",
    "- Skip even numbers after 2\n",
    "- Use sieve algorithms for larger ranges\n",
    "\n",
    "---\n",
    "\n",
    "### Summary: Loop Best Practices\n",
    "\n",
    "**Choosing the Right Loop:**\n",
    "- **for loop:** When you know the number of iterations or iterating over sequences\n",
    "- **while loop:** When the number of iterations depends on a condition\n",
    "\n",
    "**Performance Tips:**\n",
    "- Avoid unnecessary nested loops\n",
    "- Use `break` and `continue` to optimize flow\n",
    "- Consider list comprehensions for simple iterations\n",
    "\n",
    "**Common Pitfalls:**\n",
    "- **Infinite loops:** Always ensure loop conditions can become False\n",
    "- **Off-by-one errors:** Carefully check range boundaries  \n",
    "- **Modifying loop variables:** Be cautious when changing iteration variables inside loops\n",
    "\n",
    "**Memory Management:**\n",
    "- `range()` is memory-efficient (generates numbers on demand)\n",
    "- For large datasets, consider generators over lists\n",
    "\n",
    "\n"
   ]
  },
  {
   "cell_type": "markdown",
   "metadata": {},
   "source": []
  }
 ],
 "metadata": {
  "kernelspec": {
   "display_name": "Python 3",
   "language": "python",
   "name": "python3"
  },
  "language_info": {
   "codemirror_mode": {
    "name": "ipython",
    "version": 3
   },
   "file_extension": ".py",
   "mimetype": "text/x-python",
   "name": "python",
   "nbconvert_exporter": "python",
   "pygments_lexer": "ipython3",
   "version": "3.13.3"
  }
 },
 "nbformat": 4,
 "nbformat_minor": 2
}
